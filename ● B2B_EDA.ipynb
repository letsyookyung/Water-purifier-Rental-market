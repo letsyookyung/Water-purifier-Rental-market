{
 "cells": [
  {
   "cell_type": "markdown",
   "metadata": {},
   "source": [
    "# 1.Import library"
   ]
  },
  {
   "cell_type": "code",
   "execution_count": 1,
   "metadata": {},
   "outputs": [],
   "source": [
    "import pandas as pd\n",
    "import numpy as np\n",
    "import seaborn as sns\n",
    "import scipy\n",
    "\n",
    "import matplotlib.pyplot as plt\n",
    "import matplotlib\n",
    "\n",
    "from sklearn.tree import export_graphviz\n",
    "import graphviz\n",
    "\n",
    "from sklearn.preprocessing import StandardScaler\n",
    "from sklearn.model_selection import train_test_split\n",
    "\n",
    "from statsmodels.api import Logit\n",
    "\n",
    "from sklearn.metrics import accuracy_score\n",
    "from sklearn.metrics import confusion_matrix\n",
    "from sklearn.tree import export_graphviz\n",
    "from sklearn.tree import DecisionTreeClassifier\n",
    "from sklearn.ensemble import RandomForestClassifier\n",
    "from sklearn.ensemble import GradientBoostingClassifier\n",
    "from sklearn.svm import SVC\n",
    "from sklearn.neighbors import KNeighborsClassifier\n",
    "from sklearn.model_selection import GridSearchCV\n",
    "from sklearn.metrics import confusion_matrix\n",
    "\n",
    "from statsmodels.api import qqplot,add_constant\n",
    "from statsmodels.stats.outliers_influence import variance_inflation_factor\n",
    "\n",
    "from sklearn.metrics import mean_squared_error\n",
    "from sklearn.metrics import mean_absolute_error\n",
    "\n",
    "from sklearn.metrics import f1_score, roc_curve , auc\n",
    "from scipy import stats\n",
    "\n",
    "import lightgbm as lgb"
   ]
  },
  {
   "cell_type": "code",
   "execution_count": 2,
   "metadata": {},
   "outputs": [],
   "source": [
    "import matplotlib.pyplot as plt\n",
    "from matplotlib import font_manager, rc\n",
    "fontname = 'NanumGothic.ttf' \n",
    "fontname = font_manager.FontProperties(fname=fontname).get_name()\n",
    "plt.style.use('seaborn-white')\n",
    "rc('font', family=fontname) "
   ]
  },
  {
   "cell_type": "markdown",
   "metadata": {},
   "source": [
    "# 2.탐색적분석"
   ]
  },
  {
   "cell_type": "code",
   "execution_count": 3,
   "metadata": {},
   "outputs": [
    {
     "data": {
      "text/html": [
       "<div>\n",
       "<style scoped>\n",
       "    .dataframe tbody tr th:only-of-type {\n",
       "        vertical-align: middle;\n",
       "    }\n",
       "\n",
       "    .dataframe tbody tr th {\n",
       "        vertical-align: top;\n",
       "    }\n",
       "\n",
       "    .dataframe thead th {\n",
       "        text-align: right;\n",
       "    }\n",
       "</style>\n",
       "<table border=\"1\" class=\"dataframe\">\n",
       "  <thead>\n",
       "    <tr style=\"text-align: right;\">\n",
       "      <th></th>\n",
       "      <th>고객ID</th>\n",
       "      <th>고객유형</th>\n",
       "      <th>거주지</th>\n",
       "      <th>시</th>\n",
       "      <th>구군</th>\n",
       "      <th>남여구분</th>\n",
       "      <th>판매유형</th>\n",
       "      <th>계약유형</th>\n",
       "      <th>유통경로</th>\n",
       "      <th>계약일</th>\n",
       "      <th>계약기간</th>\n",
       "      <th>납부유형</th>\n",
       "      <th>제품군</th>\n",
       "      <th>월랜탈비용</th>\n",
       "      <th>계약상태</th>\n",
       "      <th>연체건수</th>\n",
       "      <th>연체여부</th>\n",
       "      <th>결제은행</th>\n",
       "      <th>해약여부</th>\n",
       "      <th>계정수</th>\n",
       "    </tr>\n",
       "  </thead>\n",
       "  <tbody>\n",
       "    <tr>\n",
       "      <th>0</th>\n",
       "      <td>25702131</td>\n",
       "      <td>사업자</td>\n",
       "      <td>경기도</td>\n",
       "      <td>경기도</td>\n",
       "      <td>화성시</td>\n",
       "      <td>여자</td>\n",
       "      <td>멤버십</td>\n",
       "      <td>멤버십S</td>\n",
       "      <td>렌탈재계약</td>\n",
       "      <td>10-20-2014</td>\n",
       "      <td>12</td>\n",
       "      <td>CMS</td>\n",
       "      <td>DES-1</td>\n",
       "      <td>66900</td>\n",
       "      <td>계약확정</td>\n",
       "      <td>0</td>\n",
       "      <td>없음</td>\n",
       "      <td>기업은행</td>\n",
       "      <td>정상</td>\n",
       "      <td>1</td>\n",
       "    </tr>\n",
       "    <tr>\n",
       "      <th>1</th>\n",
       "      <td>25742841</td>\n",
       "      <td>사업자</td>\n",
       "      <td>경기도</td>\n",
       "      <td>경기도</td>\n",
       "      <td>가평군</td>\n",
       "      <td>여자</td>\n",
       "      <td>렌탈</td>\n",
       "      <td>프로모션</td>\n",
       "      <td>서비스 방문</td>\n",
       "      <td>10-21-2014</td>\n",
       "      <td>60</td>\n",
       "      <td>CMS</td>\n",
       "      <td>DES-1</td>\n",
       "      <td>142200</td>\n",
       "      <td>계약확정</td>\n",
       "      <td>0</td>\n",
       "      <td>없음</td>\n",
       "      <td>농협회원조합</td>\n",
       "      <td>정상</td>\n",
       "      <td>1</td>\n",
       "    </tr>\n",
       "    <tr>\n",
       "      <th>2</th>\n",
       "      <td>25742683</td>\n",
       "      <td>사업자</td>\n",
       "      <td>서울특별시</td>\n",
       "      <td>서울특별시</td>\n",
       "      <td>강남구</td>\n",
       "      <td>여자</td>\n",
       "      <td>렌탈</td>\n",
       "      <td>프로모션</td>\n",
       "      <td>일반</td>\n",
       "      <td>10-21-2014</td>\n",
       "      <td>60</td>\n",
       "      <td>CMS</td>\n",
       "      <td>DES-3A</td>\n",
       "      <td>102900</td>\n",
       "      <td>계약확정</td>\n",
       "      <td>0</td>\n",
       "      <td>없음</td>\n",
       "      <td>신한은행</td>\n",
       "      <td>정상</td>\n",
       "      <td>2</td>\n",
       "    </tr>\n",
       "    <tr>\n",
       "      <th>3</th>\n",
       "      <td>25742683</td>\n",
       "      <td>사업자</td>\n",
       "      <td>서울특별시</td>\n",
       "      <td>서울특별시</td>\n",
       "      <td>강남구</td>\n",
       "      <td>여자</td>\n",
       "      <td>렌탈</td>\n",
       "      <td>프로모션</td>\n",
       "      <td>일반</td>\n",
       "      <td>11-19-2014</td>\n",
       "      <td>60</td>\n",
       "      <td>CMS</td>\n",
       "      <td>DES-3A</td>\n",
       "      <td>102900</td>\n",
       "      <td>계약확정</td>\n",
       "      <td>0</td>\n",
       "      <td>없음</td>\n",
       "      <td>신한은행</td>\n",
       "      <td>정상</td>\n",
       "      <td>2</td>\n",
       "    </tr>\n",
       "    <tr>\n",
       "      <th>4</th>\n",
       "      <td>25851817</td>\n",
       "      <td>사업자</td>\n",
       "      <td>서울특별시</td>\n",
       "      <td>서울특별시</td>\n",
       "      <td>강남구</td>\n",
       "      <td>여자</td>\n",
       "      <td>멤버십</td>\n",
       "      <td>멤버십S</td>\n",
       "      <td>렌탈재계약</td>\n",
       "      <td>10-21-2014</td>\n",
       "      <td>12</td>\n",
       "      <td>CMS</td>\n",
       "      <td>DES-1</td>\n",
       "      <td>96600</td>\n",
       "      <td>계약확정</td>\n",
       "      <td>0</td>\n",
       "      <td>없음</td>\n",
       "      <td>국민은행</td>\n",
       "      <td>정상</td>\n",
       "      <td>1</td>\n",
       "    </tr>\n",
       "  </tbody>\n",
       "</table>\n",
       "</div>"
      ],
      "text/plain": [
       "       고객ID 고객유형    거주지      시    구군 남여구분 판매유형  계약유형    유통경로         계약일  \\\n",
       "0  25702131  사업자    경기도    경기도   화성시   여자  멤버십  멤버십S   렌탈재계약  10-20-2014   \n",
       "1  25742841  사업자    경기도    경기도   가평군   여자   렌탈  프로모션  서비스 방문  10-21-2014   \n",
       "2  25742683  사업자  서울특별시  서울특별시   강남구   여자   렌탈  프로모션      일반  10-21-2014   \n",
       "3  25742683  사업자  서울특별시  서울특별시   강남구   여자   렌탈  프로모션      일반  11-19-2014   \n",
       "4  25851817  사업자  서울특별시  서울특별시   강남구   여자  멤버십  멤버십S   렌탈재계약  10-21-2014   \n",
       "\n",
       "   계약기간 납부유형     제품군   월랜탈비용  계약상태  연체건수 연체여부    결제은행 해약여부  계정수  \n",
       "0    12  CMS   DES-1   66900  계약확정     0   없음    기업은행   정상    1  \n",
       "1    60  CMS   DES-1  142200  계약확정     0   없음  농협회원조합   정상    1  \n",
       "2    60  CMS  DES-3A  102900  계약확정     0   없음    신한은행   정상    2  \n",
       "3    60  CMS  DES-3A  102900  계약확정     0   없음    신한은행   정상    2  \n",
       "4    12  CMS   DES-1   96600  계약확정     0   없음    국민은행   정상    1  "
      ]
     },
     "execution_count": 3,
     "metadata": {},
     "output_type": "execute_result"
    }
   ],
   "source": [
    "df_new_b = pd.read_csv('final_business.csv')\n",
    "df_new_b = df_new_b.drop(['Unnamed: 0'],axis = 1,inplace = False)  \n",
    "\n",
    "df_new_b.head()"
   ]
  },
  {
   "cell_type": "code",
   "execution_count": 4,
   "metadata": {},
   "outputs": [],
   "source": [
    "prem = df_new_b[df_new_b['계정수']>=5]"
   ]
  },
  {
   "cell_type": "code",
   "execution_count": 5,
   "metadata": {},
   "outputs": [],
   "source": [
    "df_new_b = prem.drop_duplicates(['고객ID'])"
   ]
  },
  {
   "cell_type": "code",
   "execution_count": 6,
   "metadata": {},
   "outputs": [
    {
     "data": {
      "text/plain": [
       "25732732    1\n",
       "25732362    1\n",
       "25721902    1\n",
       "25732653    1\n",
       "25863590    1\n",
       "25850299    1\n",
       "25854377    1\n",
       "25804968    1\n",
       "25740582    1\n",
       "25741859    1\n",
       "25732002    1\n",
       "25733024    1\n",
       "25727901    1\n",
       "25777820    1\n",
       "25855259    1\n",
       "25722839    1\n",
       "25734778    1\n",
       "25870229    1\n",
       "25722644    1\n",
       "25732659    1\n",
       "25738385    1\n",
       "25733392    1\n",
       "25814540    1\n",
       "25731964    1\n",
       "25744138    1\n",
       "25742886    1\n",
       "25731715    1\n",
       "25740210    1\n",
       "25743283    1\n",
       "25750762    1\n",
       "25733908    1\n",
       "25742586    1\n",
       "25854072    1\n",
       "25739766    1\n",
       "25741172    1\n",
       "25734386    1\n",
       "25742699    1\n",
       "25740219    1\n",
       "25732525    1\n",
       "25731616    1\n",
       "25758946    1\n",
       "25731903    1\n",
       "25742550    1\n",
       "25731755    1\n",
       "25740370    1\n",
       "25854544    1\n",
       "25869517    1\n",
       "25734218    1\n",
       "25733189    1\n",
       "25734595    1\n",
       "25742066    1\n",
       "25740607    1\n",
       "25784382    1\n",
       "25733179    1\n",
       "25741178    1\n",
       "25737986    1\n",
       "Name: 고객ID, dtype: int64"
      ]
     },
     "execution_count": 6,
     "metadata": {},
     "output_type": "execute_result"
    }
   ],
   "source": [
    "df_new_b['고객ID'].value_counts()"
   ]
  },
  {
   "cell_type": "code",
   "execution_count": null,
   "metadata": {},
   "outputs": [],
   "source": []
  },
  {
   "cell_type": "code",
   "execution_count": 18,
   "metadata": {},
   "outputs": [
    {
     "data": {
      "text/plain": [
       "Index(['고객ID', '고객유형', '거주지', '시', '구군', '남여구분', '판매유형', '계약유형', '유통경로', '계약일',\n",
       "       '계약기간', '납부유형', '제품군', '월랜탈비용', '계약상태', '연체건수', '연체여부', '결제은행', '해약여부',\n",
       "       '계정수'],\n",
       "      dtype='object')"
      ]
     },
     "execution_count": 18,
     "metadata": {},
     "output_type": "execute_result"
    }
   ],
   "source": [
    "df_new_b.columns"
   ]
  },
  {
   "cell_type": "markdown",
   "metadata": {},
   "source": [
    "# 범주형변수"
   ]
  },
  {
   "cell_type": "code",
   "execution_count": 19,
   "metadata": {},
   "outputs": [
    {
     "data": {
      "text/plain": [
       "Index(['고객유형', '거주지', '시', '구군', '남여구분', '판매유형', '계약유형', '유통경로', '계약일', '납부유형',\n",
       "       '제품군', '계약상태', '연체여부', '결제은행', '해약여부'],\n",
       "      dtype='object')"
      ]
     },
     "execution_count": 19,
     "metadata": {},
     "output_type": "execute_result"
    }
   ],
   "source": [
    "obj_cols = df_new_b.select_dtypes('object').columns\n",
    "obj_cols"
   ]
  },
  {
   "cell_type": "code",
   "execution_count": 20,
   "metadata": {},
   "outputs": [
    {
     "name": "stdout",
     "output_type": "stream",
     "text": [
      "고객유형 : 1\n",
      "거주지 : 5\n",
      "시 : 11\n",
      "구군 : 43\n",
      "남여구분 : 1\n",
      "판매유형 : 2\n",
      "계약유형 : 7\n",
      "유통경로 : 14\n",
      "계약일 : 40\n",
      "납부유형 : 4\n",
      "제품군 : 3\n",
      "계약상태 : 1\n",
      "연체여부 : 2\n",
      "결제은행 : 16\n",
      "해약여부 : 1\n"
     ]
    }
   ],
   "source": [
    "for col in obj_cols:\n",
    "    _n = len(df_new_b[col].value_counts())\n",
    "    print(col,':',str(_n))"
   ]
  },
  {
   "cell_type": "code",
   "execution_count": 60,
   "metadata": {},
   "outputs": [
    {
     "data": {
      "text/html": [
       "<div>\n",
       "<style scoped>\n",
       "    .dataframe tbody tr th:only-of-type {\n",
       "        vertical-align: middle;\n",
       "    }\n",
       "\n",
       "    .dataframe tbody tr th {\n",
       "        vertical-align: top;\n",
       "    }\n",
       "\n",
       "    .dataframe thead th {\n",
       "        text-align: right;\n",
       "    }\n",
       "</style>\n",
       "<table border=\"1\" class=\"dataframe\">\n",
       "  <thead>\n",
       "    <tr style=\"text-align: right;\">\n",
       "      <th></th>\n",
       "      <th>고객ID</th>\n",
       "      <th>고객유형</th>\n",
       "      <th>거주지</th>\n",
       "      <th>시</th>\n",
       "      <th>구군</th>\n",
       "      <th>남여구분</th>\n",
       "      <th>판매유형</th>\n",
       "      <th>계약유형</th>\n",
       "      <th>유통경로</th>\n",
       "      <th>계약일</th>\n",
       "      <th>계약기간</th>\n",
       "      <th>납부유형</th>\n",
       "      <th>제품군</th>\n",
       "      <th>월랜탈비용</th>\n",
       "      <th>계약상태</th>\n",
       "      <th>연체건수</th>\n",
       "      <th>연체여부</th>\n",
       "      <th>결제은행</th>\n",
       "      <th>해약여부</th>\n",
       "      <th>계정수</th>\n",
       "    </tr>\n",
       "  </thead>\n",
       "  <tbody>\n",
       "    <tr>\n",
       "      <th>9</th>\n",
       "      <td>25869517</td>\n",
       "      <td>사업자</td>\n",
       "      <td>경상도</td>\n",
       "      <td>부산광역시</td>\n",
       "      <td>강서구</td>\n",
       "      <td>여자</td>\n",
       "      <td>렌탈</td>\n",
       "      <td>프로모션</td>\n",
       "      <td>렌탈총판</td>\n",
       "      <td>10-21-2014</td>\n",
       "      <td>60</td>\n",
       "      <td>가상계좌</td>\n",
       "      <td>DES-1</td>\n",
       "      <td>96900</td>\n",
       "      <td>계약확정</td>\n",
       "      <td>0</td>\n",
       "      <td>없음</td>\n",
       "      <td>농협중앙회</td>\n",
       "      <td>정상</td>\n",
       "      <td>45</td>\n",
       "    </tr>\n",
       "    <tr>\n",
       "      <th>66</th>\n",
       "      <td>25777820</td>\n",
       "      <td>사업자</td>\n",
       "      <td>경기도</td>\n",
       "      <td>경기도</td>\n",
       "      <td>남양주시</td>\n",
       "      <td>여자</td>\n",
       "      <td>렌탈</td>\n",
       "      <td>프로모션</td>\n",
       "      <td>R유통사</td>\n",
       "      <td>10-21-2014</td>\n",
       "      <td>36</td>\n",
       "      <td>가상계좌</td>\n",
       "      <td>DES-1</td>\n",
       "      <td>180750</td>\n",
       "      <td>계약확정</td>\n",
       "      <td>1</td>\n",
       "      <td>있음</td>\n",
       "      <td>신한은행</td>\n",
       "      <td>정상</td>\n",
       "      <td>187</td>\n",
       "    </tr>\n",
       "    <tr>\n",
       "      <th>294</th>\n",
       "      <td>25732653</td>\n",
       "      <td>사업자</td>\n",
       "      <td>서울특별시</td>\n",
       "      <td>서울특별시</td>\n",
       "      <td>강동구</td>\n",
       "      <td>여자</td>\n",
       "      <td>렌탈</td>\n",
       "      <td>프로모션</td>\n",
       "      <td>서비스 방문</td>\n",
       "      <td>10-22-2014</td>\n",
       "      <td>60</td>\n",
       "      <td>CMS</td>\n",
       "      <td>DES-1</td>\n",
       "      <td>111900</td>\n",
       "      <td>계약확정</td>\n",
       "      <td>13</td>\n",
       "      <td>있음</td>\n",
       "      <td>농협회원조합</td>\n",
       "      <td>정상</td>\n",
       "      <td>5</td>\n",
       "    </tr>\n",
       "    <tr>\n",
       "      <th>330</th>\n",
       "      <td>25742699</td>\n",
       "      <td>사업자</td>\n",
       "      <td>경기도</td>\n",
       "      <td>경기도</td>\n",
       "      <td>안산시 단원구</td>\n",
       "      <td>여자</td>\n",
       "      <td>렌탈</td>\n",
       "      <td>통합 패키지</td>\n",
       "      <td>일반</td>\n",
       "      <td>10-22-2014</td>\n",
       "      <td>60</td>\n",
       "      <td>CMS</td>\n",
       "      <td>DES-1</td>\n",
       "      <td>81900</td>\n",
       "      <td>계약확정</td>\n",
       "      <td>0</td>\n",
       "      <td>없음</td>\n",
       "      <td>농협중앙회</td>\n",
       "      <td>정상</td>\n",
       "      <td>16</td>\n",
       "    </tr>\n",
       "    <tr>\n",
       "      <th>403</th>\n",
       "      <td>25742550</td>\n",
       "      <td>사업자</td>\n",
       "      <td>경상도</td>\n",
       "      <td>부산광역시</td>\n",
       "      <td>연제구</td>\n",
       "      <td>여자</td>\n",
       "      <td>렌탈</td>\n",
       "      <td>일반</td>\n",
       "      <td>서비스 방문</td>\n",
       "      <td>10-23-2014</td>\n",
       "      <td>60</td>\n",
       "      <td>CMS</td>\n",
       "      <td>DES-2</td>\n",
       "      <td>87900</td>\n",
       "      <td>계약확정</td>\n",
       "      <td>0</td>\n",
       "      <td>없음</td>\n",
       "      <td>부산은행</td>\n",
       "      <td>정상</td>\n",
       "      <td>5</td>\n",
       "    </tr>\n",
       "  </tbody>\n",
       "</table>\n",
       "</div>"
      ],
      "text/plain": [
       "         고객ID 고객유형    거주지      시        구군 남여구분 판매유형    계약유형    유통경로  \\\n",
       "9    25869517  사업자    경상도  부산광역시       강서구   여자   렌탈    프로모션    렌탈총판   \n",
       "66   25777820  사업자    경기도    경기도      남양주시   여자   렌탈    프로모션    R유통사   \n",
       "294  25732653  사업자  서울특별시  서울특별시       강동구   여자   렌탈    프로모션  서비스 방문   \n",
       "330  25742699  사업자    경기도    경기도   안산시 단원구   여자   렌탈  통합 패키지      일반   \n",
       "403  25742550  사업자    경상도  부산광역시       연제구   여자   렌탈      일반  서비스 방문   \n",
       "\n",
       "            계약일  계약기간  납부유형    제품군   월랜탈비용  계약상태  연체건수 연체여부    결제은행 해약여부  계정수  \n",
       "9    10-21-2014    60  가상계좌  DES-1   96900  계약확정     0   없음   농협중앙회   정상   45  \n",
       "66   10-21-2014    36  가상계좌  DES-1  180750  계약확정     1   있음    신한은행   정상  187  \n",
       "294  10-22-2014    60   CMS  DES-1  111900  계약확정    13   있음  농협회원조합   정상    5  \n",
       "330  10-22-2014    60   CMS  DES-1   81900  계약확정     0   없음   농협중앙회   정상   16  \n",
       "403  10-23-2014    60   CMS  DES-2   87900  계약확정     0   없음    부산은행   정상    5  "
      ]
     },
     "execution_count": 60,
     "metadata": {},
     "output_type": "execute_result"
    }
   ],
   "source": [
    "df_new_b.head()"
   ]
  },
  {
   "cell_type": "markdown",
   "metadata": {},
   "source": [
    "# 단변수 그래프"
   ]
  },
  {
   "cell_type": "code",
   "execution_count": 21,
   "metadata": {},
   "outputs": [
    {
     "data": {
      "text/plain": [
       "<matplotlib.axes._subplots.AxesSubplot at 0x7fd4bad8d048>"
      ]
     },
     "execution_count": 21,
     "metadata": {},
     "output_type": "execute_result"
    },
    {
     "data": {
      "image/png": "[encoded data removed]",
      "text/plain": [
       "<Figure size 432x288 with 1 Axes>"
      ]
     },
     "metadata": {},
     "output_type": "display_data"
    }
   ],
   "source": [
    "df_count = df_new_b['거주지'].value_counts()\n",
    "df_count.plot.bar()"
   ]
  },
  {
   "cell_type": "code",
   "execution_count": 22,
   "metadata": {},
   "outputs": [
    {
     "data": {
      "image/png": "[encoded data removed]",
      "text/plain": [
       "<Figure size 432x288 with 1 Axes>"
      ]
     },
     "metadata": {},
     "output_type": "display_data"
    }
   ],
   "source": [
    "df_new_b['거주지'].value_counts().plot.pie(autopct='%.1f%%', shadow=True)\n",
    "plt.show()"
   ]
  },
  {
   "cell_type": "code",
   "execution_count": 23,
   "metadata": {},
   "outputs": [
    {
     "data": {
      "text/plain": [
       "<matplotlib.axes._subplots.AxesSubplot at 0x7fd4ba9fdf60>"
      ]
     },
     "execution_count": 23,
     "metadata": {},
     "output_type": "execute_result"
    },
    {
     "data": {
      "image/png": "[encoded data removed]",
      "text/plain": [
       "<Figure size 432x288 with 1 Axes>"
      ]
     },
     "metadata": {},
     "output_type": "display_data"
    }
   ],
   "source": [
    "df_count = df_new_b['시'].value_counts()\n",
    "df_count.plot.bar()"
   ]
  },
  {
   "cell_type": "code",
   "execution_count": 24,
   "metadata": {},
   "outputs": [
    {
     "data": {
      "image/png": "[encoded data removed]",
      "text/plain": [
       "<Figure size 432x288 with 1 Axes>"
      ]
     },
     "metadata": {},
     "output_type": "display_data"
    }
   ],
   "source": [
    "df_new_b['시'].value_counts().plot.pie(autopct='%.1f%%', shadow=True)\n",
    "plt.show()"
   ]
  },
  {
   "cell_type": "code",
   "execution_count": 26,
   "metadata": {},
   "outputs": [
    {
     "data": {
      "text/plain": [
       "<matplotlib.axes._subplots.AxesSubplot at 0x7fd4ba8af668>"
      ]
     },
     "execution_count": 26,
     "metadata": {},
     "output_type": "execute_result"
    },
    {
     "data": {
      "image/png": "[encoded data removed]",
      "text/plain": [
       "<Figure size 432x288 with 1 Axes>"
      ]
     },
     "metadata": {},
     "output_type": "display_data"
    }
   ],
   "source": [
    "df_count = df_new_b['남여구분'].value_counts()\n",
    "df_count.plot.bar()"
   ]
  },
  {
   "cell_type": "code",
   "execution_count": 27,
   "metadata": {},
   "outputs": [
    {
     "data": {
      "image/png": "[encoded data removed]",
      "text/plain": [
       "<Figure size 432x288 with 1 Axes>"
      ]
     },
     "metadata": {},
     "output_type": "display_data"
    }
   ],
   "source": [
    "df_new_b['남여구분'].value_counts().plot.pie(autopct='%.1f%%', shadow=True)\n",
    "plt.show()"
   ]
  },
  {
   "cell_type": "code",
   "execution_count": 28,
   "metadata": {},
   "outputs": [
    {
     "data": {
      "text/plain": [
       "<matplotlib.axes._subplots.AxesSubplot at 0x7fd4ba7ddb00>"
      ]
     },
     "execution_count": 28,
     "metadata": {},
     "output_type": "execute_result"
    },
    {
     "data": {
      "image/png": "[encoded data removed]",
      "text/plain": [
       "<Figure size 432x288 with 1 Axes>"
      ]
     },
     "metadata": {},
     "output_type": "display_data"
    }
   ],
   "source": [
    "df_count = df_new_b['판매유형'].value_counts()\n",
    "df_count.plot.bar()"
   ]
  },
  {
   "cell_type": "code",
   "execution_count": 29,
   "metadata": {},
   "outputs": [
    {
     "data": {
      "image/png": "[encoded data removed]",
      "text/plain": [
       "<Figure size 432x288 with 1 Axes>"
      ]
     },
     "metadata": {},
     "output_type": "display_data"
    }
   ],
   "source": [
    "df_new_b['판매유형'].value_counts().plot.pie(autopct='%.1f%%', shadow=True)\n",
    "plt.show()"
   ]
  },
  {
   "cell_type": "code",
   "execution_count": 30,
   "metadata": {},
   "outputs": [
    {
     "data": {
      "text/plain": [
       "<matplotlib.axes._subplots.AxesSubplot at 0x7fd4ba70d208>"
      ]
     },
     "execution_count": 30,
     "metadata": {},
     "output_type": "execute_result"
    },
    {
     "data": {
      "image/png": "[encoded data removed]",
      "text/plain": [
       "<Figure size 432x288 with 1 Axes>"
      ]
     },
     "metadata": {},
     "output_type": "display_data"
    }
   ],
   "source": [
    "df_count = df_new_b['계약유형'].value_counts()\n",
    "df_count.plot.bar()"
   ]
  },
  {
   "cell_type": "code",
   "execution_count": 31,
   "metadata": {},
   "outputs": [
    {
     "data": {
      "image/png": "[encoded data removed]",
      "text/plain": [
       "<Figure size 432x288 with 1 Axes>"
      ]
     },
     "metadata": {},
     "output_type": "display_data"
    }
   ],
   "source": [
    "df_new_b['계약유형'].value_counts().plot.pie(autopct='%.1f%%', shadow=True)\n",
    "plt.show()"
   ]
  },
  {
   "cell_type": "code",
   "execution_count": 32,
   "metadata": {},
   "outputs": [
    {
     "data": {
      "text/plain": [
       "<matplotlib.axes._subplots.AxesSubplot at 0x7fd4ba6697b8>"
      ]
     },
     "execution_count": 32,
     "metadata": {},
     "output_type": "execute_result"
    },
    {
     "data": {
      "image/png": "[encoded data removed]",
      "text/plain": [
       "<Figure size 432x288 with 1 Axes>"
      ]
     },
     "metadata": {},
     "output_type": "display_data"
    }
   ],
   "source": [
    "df_count = df_new_b['유통경로'].value_counts()\n",
    "df_count.plot.bar()"
   ]
  },
  {
   "cell_type": "code",
   "execution_count": 33,
   "metadata": {},
   "outputs": [
    {
     "data": {
      "image/png": "[encoded data removed]",
      "text/plain": [
       "<Figure size 432x288 with 1 Axes>"
      ]
     },
     "metadata": {},
     "output_type": "display_data"
    }
   ],
   "source": [
    "df_new_b['유통경로'].value_counts().plot.pie(autopct='%.1f%%', shadow=True)\n",
    "plt.show()"
   ]
  },
  {
   "cell_type": "code",
   "execution_count": 34,
   "metadata": {},
   "outputs": [
    {
     "data": {
      "text/plain": [
       "<matplotlib.axes._subplots.AxesSubplot at 0x7fd4ba516710>"
      ]
     },
     "execution_count": 34,
     "metadata": {},
     "output_type": "execute_result"
    },
    {
     "data": {
      "image/png": "[encoded data removed]",
      "text/plain": [
       "<Figure size 432x288 with 1 Axes>"
      ]
     },
     "metadata": {},
     "output_type": "display_data"
    }
   ],
   "source": [
    "df_count = df_new_b['납부유형'].value_counts()\n",
    "df_count.plot.bar()"
   ]
  },
  {
   "cell_type": "code",
   "execution_count": 35,
   "metadata": {},
   "outputs": [
    {
     "data": {
      "image/png": "[encoded data removed]",
      "text/plain": [
       "<Figure size 432x288 with 1 Axes>"
      ]
     },
     "metadata": {},
     "output_type": "display_data"
    }
   ],
   "source": [
    "df_new_b['납부유형'].value_counts().plot.pie(autopct='%.1f%%', shadow=True)\n",
    "plt.show()"
   ]
  },
  {
   "cell_type": "code",
   "execution_count": 36,
   "metadata": {},
   "outputs": [
    {
     "data": {
      "text/plain": [
       "<matplotlib.axes._subplots.AxesSubplot at 0x7fd4ba4fb860>"
      ]
     },
     "execution_count": 36,
     "metadata": {},
     "output_type": "execute_result"
    },
    {
     "data": {
      "image/png": "[encoded data removed]",
      "text/plain": [
       "<Figure size 432x288 with 1 Axes>"
      ]
     },
     "metadata": {},
     "output_type": "display_data"
    }
   ],
   "source": [
    "df_count = df_new_b['제품군'].value_counts()\n",
    "df_count.plot.bar()"
   ]
  },
  {
   "cell_type": "code",
   "execution_count": 37,
   "metadata": {},
   "outputs": [
    {
     "data": {
      "image/png": "[encoded data removed]",
      "text/plain": [
       "<Figure size 432x288 with 1 Axes>"
      ]
     },
     "metadata": {},
     "output_type": "display_data"
    }
   ],
   "source": [
    "df_new_b['제품군'].value_counts().plot.pie(autopct='%.1f%%', shadow=True)\n",
    "plt.show()"
   ]
  },
  {
   "cell_type": "code",
   "execution_count": 38,
   "metadata": {
    "scrolled": true
   },
   "outputs": [
    {
     "data": {
      "text/plain": [
       "<matplotlib.axes._subplots.AxesSubplot at 0x7fd4ba9542b0>"
      ]
     },
     "execution_count": 38,
     "metadata": {},
     "output_type": "execute_result"
    },
    {
     "data": {
      "image/png": "[encoded data removed]",
      "text/plain": [
       "<Figure size 432x288 with 1 Axes>"
      ]
     },
     "metadata": {},
     "output_type": "display_data"
    }
   ],
   "source": [
    "df_count = df_new_b['계약상태'].value_counts()\n",
    "df_count.plot.bar()\n",
    "\n",
    "# 불균형 데이터"
   ]
  },
  {
   "cell_type": "code",
   "execution_count": 39,
   "metadata": {},
   "outputs": [
    {
     "data": {
      "image/png": "[encoded data removed]",
      "text/plain": [
       "<Figure size 432x288 with 1 Axes>"
      ]
     },
     "metadata": {},
     "output_type": "display_data"
    }
   ],
   "source": [
    "df_new_b['계약상태'].value_counts().plot.pie(autopct='%.1f%%', shadow=True)\n",
    "plt.show()"
   ]
  },
  {
   "cell_type": "code",
   "execution_count": 40,
   "metadata": {},
   "outputs": [
    {
     "data": {
      "text/plain": [
       "<matplotlib.axes._subplots.AxesSubplot at 0x7fd4ba8c2b38>"
      ]
     },
     "execution_count": 40,
     "metadata": {},
     "output_type": "execute_result"
    },
    {
     "data": {
      "image/png": "[encoded data removed]",
      "text/plain": [
       "<Figure size 432x288 with 1 Axes>"
      ]
     },
     "metadata": {},
     "output_type": "display_data"
    }
   ],
   "source": [
    "df_count = df_new_b['연체여부'].value_counts()\n",
    "df_count.plot.bar()"
   ]
  },
  {
   "cell_type": "code",
   "execution_count": 41,
   "metadata": {},
   "outputs": [
    {
     "data": {
      "image/png": "[encoded data removed]",
      "text/plain": [
       "<Figure size 432x288 with 1 Axes>"
      ]
     },
     "metadata": {},
     "output_type": "display_data"
    }
   ],
   "source": [
    "df_new_b['연체여부'].value_counts().plot.pie(autopct='%.1f%%', shadow=True)\n",
    "plt.show()"
   ]
  },
  {
   "cell_type": "code",
   "execution_count": 42,
   "metadata": {},
   "outputs": [
    {
     "data": {
      "text/plain": [
       "<matplotlib.axes._subplots.AxesSubplot at 0x7fd4baa06198>"
      ]
     },
     "execution_count": 42,
     "metadata": {},
     "output_type": "execute_result"
    },
    {
     "data": {
      "image/png": "[encoded data removed]",
      "text/plain": [
       "<Figure size 432x288 with 1 Axes>"
      ]
     },
     "metadata": {},
     "output_type": "display_data"
    }
   ],
   "source": [
    "df_count = df_new_b['결제은행'].value_counts()\n",
    "df_count.plot.bar()"
   ]
  },
  {
   "cell_type": "code",
   "execution_count": 43,
   "metadata": {},
   "outputs": [
    {
     "data": {
      "image/png": "[encoded data removed]",
      "text/plain": [
       "<Figure size 432x288 with 1 Axes>"
      ]
     },
     "metadata": {},
     "output_type": "display_data"
    }
   ],
   "source": [
    "df_new_b['결제은행'].value_counts().plot.pie(autopct='%.1f%%', shadow=True)\n",
    "plt.show()"
   ]
  },
  {
   "cell_type": "code",
   "execution_count": 44,
   "metadata": {
    "scrolled": true
   },
   "outputs": [
    {
     "data": {
      "text/plain": [
       "<matplotlib.axes._subplots.AxesSubplot at 0x7fd4ba3f3940>"
      ]
     },
     "execution_count": 44,
     "metadata": {},
     "output_type": "execute_result"
    },
    {
     "data": {
      "image/png": "[encoded data removed]",
      "text/plain": [
       "<Figure size 432x288 with 1 Axes>"
      ]
     },
     "metadata": {},
     "output_type": "display_data"
    }
   ],
   "source": [
    "df_count = df_new_b['해약여부'].value_counts()\n",
    "df_count.plot.bar()"
   ]
  },
  {
   "cell_type": "code",
   "execution_count": 45,
   "metadata": {},
   "outputs": [
    {
     "data": {
      "image/png": "[encoded data removed]",
      "text/plain": [
       "<Figure size 432x288 with 1 Axes>"
      ]
     },
     "metadata": {},
     "output_type": "display_data"
    }
   ],
   "source": [
    "df_new_b['해약여부'].value_counts().plot.pie(autopct='%.1f%%', shadow=True)\n",
    "plt.show()"
   ]
  },
  {
   "cell_type": "code",
   "execution_count": 46,
   "metadata": {},
   "outputs": [
    {
     "data": {
      "text/plain": [
       "정상    56\n",
       "Name: 해약여부, dtype: int64"
      ]
     },
     "execution_count": 46,
     "metadata": {},
     "output_type": "execute_result"
    }
   ],
   "source": [
    "df_new_b['해약여부'].value_counts()"
   ]
  },
  {
   "cell_type": "markdown",
   "metadata": {},
   "source": [
    "법인은 해지여부 관점에서 말할게 없다."
   ]
  },
  {
   "cell_type": "code",
   "execution_count": 59,
   "metadata": {},
   "outputs": [
    {
     "data": {
      "image/png": "[encoded data removed]",
      "text/plain": [
       "<Figure size 432x288 with 1 Axes>"
      ]
     },
     "metadata": {},
     "output_type": "display_data"
    }
   ],
   "source": [
    "df_new_b['계약기간'].value_counts().plot.pie(autopct='%.1f%%', shadow=True)\n",
    "plt.show()"
   ]
  },
  {
   "cell_type": "code",
   "execution_count": null,
   "metadata": {},
   "outputs": [],
   "source": []
  },
  {
   "cell_type": "markdown",
   "metadata": {},
   "source": [
    "# 해약여부에 따른 범주형 변수 그래프"
   ]
  },
  {
   "cell_type": "code",
   "execution_count": 49,
   "metadata": {},
   "outputs": [
    {
     "data": {
      "image/png": "[encoded data removed]",
      "text/plain": [
       "<Figure size 432x288 with 1 Axes>"
      ]
     },
     "metadata": {},
     "output_type": "display_data"
    }
   ],
   "source": [
    "sns.countplot('거주지',hue='해약여부',data=df_new_b)\n",
    "plt.show()"
   ]
  },
  {
   "cell_type": "code",
   "execution_count": 61,
   "metadata": {},
   "outputs": [
    {
     "data": {
      "image/png": "[encoded data removed]",
      "text/plain": [
       "<Figure size 432x288 with 1 Axes>"
      ]
     },
     "metadata": {
      "needs_background": "light"
     },
     "output_type": "display_data"
    }
   ],
   "source": [
    "sns.countplot('시',hue='해약여부',data=df_new_b)\n",
    "plt.show()"
   ]
  },
  {
   "cell_type": "code",
   "execution_count": 62,
   "metadata": {},
   "outputs": [
    {
     "data": {
      "image/png": "[encoded data removed]",
      "text/plain": [
       "<Figure size 432x288 with 1 Axes>"
      ]
     },
     "metadata": {
      "needs_background": "light"
     },
     "output_type": "display_data"
    }
   ],
   "source": [
    "sns.countplot('남여구분',hue='해약여부',data=df_new_b)\n",
    "plt.show()"
   ]
  },
  {
   "cell_type": "code",
   "execution_count": 63,
   "metadata": {},
   "outputs": [
    {
     "data": {
      "image/png": "[encoded data removed]",
      "text/plain": [
       "<Figure size 432x288 with 1 Axes>"
      ]
     },
     "metadata": {
      "needs_background": "light"
     },
     "output_type": "display_data"
    }
   ],
   "source": [
    "sns.countplot('판매유형',hue='해약여부',data=df_new_b)\n",
    "plt.show()"
   ]
  },
  {
   "cell_type": "code",
   "execution_count": 64,
   "metadata": {},
   "outputs": [
    {
     "data": {
      "image/png": "[encoded data removed]",
      "text/plain": [
       "<Figure size 432x288 with 1 Axes>"
      ]
     },
     "metadata": {
      "needs_background": "light"
     },
     "output_type": "display_data"
    }
   ],
   "source": [
    "sns.countplot('계약유형',hue='해약여부',data=df_new_b)\n",
    "plt.show()"
   ]
  },
  {
   "cell_type": "code",
   "execution_count": 65,
   "metadata": {},
   "outputs": [
    {
     "data": {
      "image/png": "[encoded data removed]",
      "text/plain": [
       "<Figure size 432x288 with 1 Axes>"
      ]
     },
     "metadata": {
      "needs_background": "light"
     },
     "output_type": "display_data"
    }
   ],
   "source": [
    "sns.countplot('유통경로',hue='해약여부',data=df_new_b)\n",
    "plt.show()"
   ]
  },
  {
   "cell_type": "code",
   "execution_count": 66,
   "metadata": {},
   "outputs": [
    {
     "data": {
      "image/png": "[encoded data removed]",
      "text/plain": [
       "<Figure size 432x288 with 1 Axes>"
      ]
     },
     "metadata": {
      "needs_background": "light"
     },
     "output_type": "display_data"
    }
   ],
   "source": [
    "sns.countplot('납부유형',hue='해약여부',data=df_new_b)\n",
    "plt.show()"
   ]
  },
  {
   "cell_type": "code",
   "execution_count": 67,
   "metadata": {},
   "outputs": [
    {
     "data": {
      "image/png": "[encoded data removed]",
      "text/plain": [
       "<Figure size 432x288 with 1 Axes>"
      ]
     },
     "metadata": {
      "needs_background": "light"
     },
     "output_type": "display_data"
    }
   ],
   "source": [
    "sns.countplot('제품군',hue='해약여부',data=df_new_b)\n",
    "plt.show()"
   ]
  },
  {
   "cell_type": "code",
   "execution_count": 68,
   "metadata": {},
   "outputs": [
    {
     "data": {
      "image/png": "[encoded data removed]",
      "text/plain": [
       "<Figure size 432x288 with 1 Axes>"
      ]
     },
     "metadata": {
      "needs_background": "light"
     },
     "output_type": "display_data"
    }
   ],
   "source": [
    "sns.countplot('계약상태',hue='해약여부',data=df_new_b)\n",
    "plt.show()"
   ]
  },
  {
   "cell_type": "code",
   "execution_count": 69,
   "metadata": {},
   "outputs": [
    {
     "data": {
      "image/png": "[encoded data removed]",
      "text/plain": [
       "<Figure size 432x288 with 1 Axes>"
      ]
     },
     "metadata": {
      "needs_background": "light"
     },
     "output_type": "display_data"
    }
   ],
   "source": [
    "sns.countplot('연체여부',hue='해약여부',data=df_new_b)\n",
    "plt.show()"
   ]
  },
  {
   "cell_type": "code",
   "execution_count": 70,
   "metadata": {},
   "outputs": [
    {
     "data": {
      "image/png": "[encoded data removed]",
      "text/plain": [
       "<Figure size 432x288 with 1 Axes>"
      ]
     },
     "metadata": {
      "needs_background": "light"
     },
     "output_type": "display_data"
    }
   ],
   "source": [
    "sns.countplot('결제은행',hue='해약여부',data=df_new_b)\n",
    "plt.show()"
   ]
  },
  {
   "cell_type": "markdown",
   "metadata": {},
   "source": [
    "# 카이제곱 검정"
   ]
  },
  {
   "cell_type": "code",
   "execution_count": 50,
   "metadata": {},
   "outputs": [
    {
     "data": {
      "text/html": [
       "<div>\n",
       "<style scoped>\n",
       "    .dataframe tbody tr th:only-of-type {\n",
       "        vertical-align: middle;\n",
       "    }\n",
       "\n",
       "    .dataframe tbody tr th {\n",
       "        vertical-align: top;\n",
       "    }\n",
       "\n",
       "    .dataframe thead th {\n",
       "        text-align: right;\n",
       "    }\n",
       "</style>\n",
       "<table border=\"1\" class=\"dataframe\">\n",
       "  <thead>\n",
       "    <tr style=\"text-align: right;\">\n",
       "      <th>해약여부</th>\n",
       "      <th>정상</th>\n",
       "      <th>All</th>\n",
       "    </tr>\n",
       "    <tr>\n",
       "      <th>거주지</th>\n",
       "      <th></th>\n",
       "      <th></th>\n",
       "    </tr>\n",
       "  </thead>\n",
       "  <tbody>\n",
       "    <tr>\n",
       "      <th>경기도</th>\n",
       "      <td>21</td>\n",
       "      <td>21</td>\n",
       "    </tr>\n",
       "    <tr>\n",
       "      <th>경상도</th>\n",
       "      <td>13</td>\n",
       "      <td>13</td>\n",
       "    </tr>\n",
       "    <tr>\n",
       "      <th>서울특별시</th>\n",
       "      <td>11</td>\n",
       "      <td>11</td>\n",
       "    </tr>\n",
       "    <tr>\n",
       "      <th>전라도</th>\n",
       "      <td>5</td>\n",
       "      <td>5</td>\n",
       "    </tr>\n",
       "    <tr>\n",
       "      <th>충청도</th>\n",
       "      <td>6</td>\n",
       "      <td>6</td>\n",
       "    </tr>\n",
       "    <tr>\n",
       "      <th>All</th>\n",
       "      <td>56</td>\n",
       "      <td>56</td>\n",
       "    </tr>\n",
       "  </tbody>\n",
       "</table>\n",
       "</div>"
      ],
      "text/plain": [
       "해약여부   정상  All\n",
       "거주지           \n",
       "경기도    21   21\n",
       "경상도    13   13\n",
       "서울특별시  11   11\n",
       "전라도     5    5\n",
       "충청도     6    6\n",
       "All    56   56"
      ]
     },
     "execution_count": 50,
     "metadata": {},
     "output_type": "execute_result"
    }
   ],
   "source": [
    "a = pd.crosstab(df_new_b['거주지'], df_new_b['해약여부'], margins=True)\n",
    "a"
   ]
  },
  {
   "cell_type": "code",
   "execution_count": 51,
   "metadata": {},
   "outputs": [
    {
     "name": "stdout",
     "output_type": "stream",
     "text": [
      "1.0\n"
     ]
    }
   ],
   "source": [
    "c1 = [a.loc['경기도'][0],a.loc['경기도'][1]]\n",
    "c2 = [a.loc['경상도'][0],a.loc['경상도'][1]]\n",
    "_, p_value, _, _ = scipy.stats.chi2_contingency([c1, c2])\n",
    "print(p_value)"
   ]
  },
  {
   "cell_type": "markdown",
   "metadata": {},
   "source": [
    "두 집단가 이탈율 차이 없음"
   ]
  },
  {
   "cell_type": "code",
   "execution_count": 52,
   "metadata": {},
   "outputs": [
    {
     "data": {
      "text/html": [
       "<div>\n",
       "<style scoped>\n",
       "    .dataframe tbody tr th:only-of-type {\n",
       "        vertical-align: middle;\n",
       "    }\n",
       "\n",
       "    .dataframe tbody tr th {\n",
       "        vertical-align: top;\n",
       "    }\n",
       "\n",
       "    .dataframe thead th {\n",
       "        text-align: right;\n",
       "    }\n",
       "</style>\n",
       "<table border=\"1\" class=\"dataframe\">\n",
       "  <thead>\n",
       "    <tr style=\"text-align: right;\">\n",
       "      <th>해약여부</th>\n",
       "      <th>정상</th>\n",
       "      <th>All</th>\n",
       "    </tr>\n",
       "    <tr>\n",
       "      <th>시</th>\n",
       "      <th></th>\n",
       "      <th></th>\n",
       "    </tr>\n",
       "  </thead>\n",
       "  <tbody>\n",
       "    <tr>\n",
       "      <th>경기도</th>\n",
       "      <td>20</td>\n",
       "      <td>20</td>\n",
       "    </tr>\n",
       "    <tr>\n",
       "      <th>경상도</th>\n",
       "      <td>7</td>\n",
       "      <td>7</td>\n",
       "    </tr>\n",
       "    <tr>\n",
       "      <th>광주광역시</th>\n",
       "      <td>4</td>\n",
       "      <td>4</td>\n",
       "    </tr>\n",
       "    <tr>\n",
       "      <th>대구광역시</th>\n",
       "      <td>1</td>\n",
       "      <td>1</td>\n",
       "    </tr>\n",
       "    <tr>\n",
       "      <th>대전광역시</th>\n",
       "      <td>1</td>\n",
       "      <td>1</td>\n",
       "    </tr>\n",
       "    <tr>\n",
       "      <th>부산광역시</th>\n",
       "      <td>4</td>\n",
       "      <td>4</td>\n",
       "    </tr>\n",
       "    <tr>\n",
       "      <th>서울특별시</th>\n",
       "      <td>11</td>\n",
       "      <td>11</td>\n",
       "    </tr>\n",
       "    <tr>\n",
       "      <th>울산광역시</th>\n",
       "      <td>1</td>\n",
       "      <td>1</td>\n",
       "    </tr>\n",
       "    <tr>\n",
       "      <th>인천광역시</th>\n",
       "      <td>1</td>\n",
       "      <td>1</td>\n",
       "    </tr>\n",
       "    <tr>\n",
       "      <th>전라도</th>\n",
       "      <td>1</td>\n",
       "      <td>1</td>\n",
       "    </tr>\n",
       "    <tr>\n",
       "      <th>충청도</th>\n",
       "      <td>5</td>\n",
       "      <td>5</td>\n",
       "    </tr>\n",
       "    <tr>\n",
       "      <th>All</th>\n",
       "      <td>56</td>\n",
       "      <td>56</td>\n",
       "    </tr>\n",
       "  </tbody>\n",
       "</table>\n",
       "</div>"
      ],
      "text/plain": [
       "해약여부   정상  All\n",
       "시             \n",
       "경기도    20   20\n",
       "경상도     7    7\n",
       "광주광역시   4    4\n",
       "대구광역시   1    1\n",
       "대전광역시   1    1\n",
       "부산광역시   4    4\n",
       "서울특별시  11   11\n",
       "울산광역시   1    1\n",
       "인천광역시   1    1\n",
       "전라도     1    1\n",
       "충청도     5    5\n",
       "All    56   56"
      ]
     },
     "execution_count": 52,
     "metadata": {},
     "output_type": "execute_result"
    }
   ],
   "source": [
    "a = pd.crosstab(df_new_b['시'], df_new_b['해약여부'], margins=True)\n",
    "a"
   ]
  },
  {
   "cell_type": "code",
   "execution_count": 84,
   "metadata": {},
   "outputs": [
    {
     "name": "stdout",
     "output_type": "stream",
     "text": [
      "0.9551745042596298\n"
     ]
    }
   ],
   "source": [
    "c1 = [a.loc['경기도'][0],a.loc['경기도'][1]]\n",
    "c2 = [a.loc['서울특별시'][0],a.loc['서울특별시'][1]]\n",
    "_, p_value, _, _ = scipy.stats.chi2_contingency([c1, c2])\n",
    "print(p_value)"
   ]
  },
  {
   "cell_type": "markdown",
   "metadata": {},
   "source": [
    "두 집단간 이탈율 차이 없다."
   ]
  },
  {
   "cell_type": "code",
   "execution_count": 85,
   "metadata": {},
   "outputs": [
    {
     "data": {
      "text/html": [
       "<div>\n",
       "<style scoped>\n",
       "    .dataframe tbody tr th:only-of-type {\n",
       "        vertical-align: middle;\n",
       "    }\n",
       "\n",
       "    .dataframe tbody tr th {\n",
       "        vertical-align: top;\n",
       "    }\n",
       "\n",
       "    .dataframe thead th {\n",
       "        text-align: right;\n",
       "    }\n",
       "</style>\n",
       "<table border=\"1\" class=\"dataframe\">\n",
       "  <thead>\n",
       "    <tr style=\"text-align: right;\">\n",
       "      <th>해약여부</th>\n",
       "      <th>정상</th>\n",
       "      <th>해약</th>\n",
       "      <th>All</th>\n",
       "    </tr>\n",
       "    <tr>\n",
       "      <th>남여구분</th>\n",
       "      <th></th>\n",
       "      <th></th>\n",
       "      <th></th>\n",
       "    </tr>\n",
       "  </thead>\n",
       "  <tbody>\n",
       "    <tr>\n",
       "      <th>남자</th>\n",
       "      <td>60</td>\n",
       "      <td>5</td>\n",
       "      <td>65</td>\n",
       "    </tr>\n",
       "    <tr>\n",
       "      <th>여자</th>\n",
       "      <td>4971</td>\n",
       "      <td>0</td>\n",
       "      <td>4971</td>\n",
       "    </tr>\n",
       "    <tr>\n",
       "      <th>All</th>\n",
       "      <td>5031</td>\n",
       "      <td>5</td>\n",
       "      <td>5036</td>\n",
       "    </tr>\n",
       "  </tbody>\n",
       "</table>\n",
       "</div>"
      ],
      "text/plain": [
       "해약여부    정상  해약   All\n",
       "남여구분                \n",
       "남자      60   5    65\n",
       "여자    4971   0  4971\n",
       "All   5031   5  5036"
      ]
     },
     "execution_count": 85,
     "metadata": {},
     "output_type": "execute_result"
    }
   ],
   "source": [
    "a = pd.crosstab(df_new_b['남여구분'], df_new_b['해약여부'], margins=True)\n",
    "a"
   ]
  },
  {
   "cell_type": "code",
   "execution_count": 86,
   "metadata": {},
   "outputs": [
    {
     "name": "stdout",
     "output_type": "stream",
     "text": [
      "3.3632729100465127e-69\n"
     ]
    }
   ],
   "source": [
    "c1 = [a.loc['남자'][0],a.loc['남자'][1]]\n",
    "c2 = [a.loc['여자'][0],a.loc['여자'][1]]\n",
    "_, p_value, _, _ = scipy.stats.chi2_contingency([c1, c2])\n",
    "print(p_value)"
   ]
  },
  {
   "cell_type": "markdown",
   "metadata": {},
   "source": [
    "유의수준 0.05보다 작으므로 귀무가설(렌탈집단과 멤버십집단은 이탈율이 같다)을 기각할 수 있다.\n",
    "\n",
    "즉, 두 집단의 이탈율은 다르다."
   ]
  },
  {
   "cell_type": "code",
   "execution_count": 72,
   "metadata": {},
   "outputs": [
    {
     "data": {
      "text/html": [
       "<div>\n",
       "<style scoped>\n",
       "    .dataframe tbody tr th:only-of-type {\n",
       "        vertical-align: middle;\n",
       "    }\n",
       "\n",
       "    .dataframe tbody tr th {\n",
       "        vertical-align: top;\n",
       "    }\n",
       "\n",
       "    .dataframe thead th {\n",
       "        text-align: right;\n",
       "    }\n",
       "</style>\n",
       "<table border=\"1\" class=\"dataframe\">\n",
       "  <thead>\n",
       "    <tr style=\"text-align: right;\">\n",
       "      <th>해약여부</th>\n",
       "      <th>정상</th>\n",
       "      <th>All</th>\n",
       "    </tr>\n",
       "    <tr>\n",
       "      <th>판매유형</th>\n",
       "      <th></th>\n",
       "      <th></th>\n",
       "    </tr>\n",
       "  </thead>\n",
       "  <tbody>\n",
       "    <tr>\n",
       "      <th>렌탈</th>\n",
       "      <td>54</td>\n",
       "      <td>54</td>\n",
       "    </tr>\n",
       "    <tr>\n",
       "      <th>멤버십</th>\n",
       "      <td>2</td>\n",
       "      <td>2</td>\n",
       "    </tr>\n",
       "    <tr>\n",
       "      <th>All</th>\n",
       "      <td>56</td>\n",
       "      <td>56</td>\n",
       "    </tr>\n",
       "  </tbody>\n",
       "</table>\n",
       "</div>"
      ],
      "text/plain": [
       "해약여부  정상  All\n",
       "판매유형         \n",
       "렌탈    54   54\n",
       "멤버십    2    2\n",
       "All   56   56"
      ]
     },
     "execution_count": 72,
     "metadata": {},
     "output_type": "execute_result"
    }
   ],
   "source": [
    "a = pd.crosstab(df_new_b['판매유형'], df_new_b['해약여부'], margins=True)\n",
    "a"
   ]
  },
  {
   "cell_type": "code",
   "execution_count": null,
   "metadata": {},
   "outputs": [],
   "source": [
    "df_new_b"
   ]
  },
  {
   "cell_type": "code",
   "execution_count": 88,
   "metadata": {},
   "outputs": [
    {
     "name": "stdout",
     "output_type": "stream",
     "text": [
      "5.984621375668665e-15\n"
     ]
    }
   ],
   "source": [
    "c1 = [a.loc['렌탈'][0],a.loc['렌탈'][1]]\n",
    "c2 = [a.loc['멤버십'][0],a.loc['멤버십'][1]]\n",
    "_, p_value, _, _ = scipy.stats.chi2_contingency([c1, c2])\n",
    "print(p_value)"
   ]
  },
  {
   "cell_type": "markdown",
   "metadata": {},
   "source": [
    "유의수준 0.05보다 작으므로 귀무가설(렌탈집단과 멤버십집단은 이탈율이 같다)을 기각할 수 있다.\n",
    "\n",
    "즉, 두 집단의 이탈율은 다르다. "
   ]
  },
  {
   "cell_type": "code",
   "execution_count": 71,
   "metadata": {},
   "outputs": [
    {
     "data": {
      "text/html": [
       "<div>\n",
       "<style scoped>\n",
       "    .dataframe tbody tr th:only-of-type {\n",
       "        vertical-align: middle;\n",
       "    }\n",
       "\n",
       "    .dataframe tbody tr th {\n",
       "        vertical-align: top;\n",
       "    }\n",
       "\n",
       "    .dataframe thead th {\n",
       "        text-align: right;\n",
       "    }\n",
       "</style>\n",
       "<table border=\"1\" class=\"dataframe\">\n",
       "  <thead>\n",
       "    <tr style=\"text-align: right;\">\n",
       "      <th>해약여부</th>\n",
       "      <th>정상</th>\n",
       "      <th>All</th>\n",
       "    </tr>\n",
       "    <tr>\n",
       "      <th>계약유형</th>\n",
       "      <th></th>\n",
       "      <th></th>\n",
       "    </tr>\n",
       "  </thead>\n",
       "  <tbody>\n",
       "    <tr>\n",
       "      <th>교체렌탈</th>\n",
       "      <td>1</td>\n",
       "      <td>1</td>\n",
       "    </tr>\n",
       "    <tr>\n",
       "      <th>단체</th>\n",
       "      <td>9</td>\n",
       "      <td>9</td>\n",
       "    </tr>\n",
       "    <tr>\n",
       "      <th>멤버십S</th>\n",
       "      <td>1</td>\n",
       "      <td>1</td>\n",
       "    </tr>\n",
       "    <tr>\n",
       "      <th>멥버십C</th>\n",
       "      <td>1</td>\n",
       "      <td>1</td>\n",
       "    </tr>\n",
       "    <tr>\n",
       "      <th>일반</th>\n",
       "      <td>22</td>\n",
       "      <td>22</td>\n",
       "    </tr>\n",
       "    <tr>\n",
       "      <th>통합 패키지</th>\n",
       "      <td>5</td>\n",
       "      <td>5</td>\n",
       "    </tr>\n",
       "    <tr>\n",
       "      <th>프로모션</th>\n",
       "      <td>17</td>\n",
       "      <td>17</td>\n",
       "    </tr>\n",
       "    <tr>\n",
       "      <th>All</th>\n",
       "      <td>56</td>\n",
       "      <td>56</td>\n",
       "    </tr>\n",
       "  </tbody>\n",
       "</table>\n",
       "</div>"
      ],
      "text/plain": [
       "해약여부    정상  All\n",
       "계약유형           \n",
       "교체렌탈     1    1\n",
       "단체       9    9\n",
       "멤버십S     1    1\n",
       "멥버십C     1    1\n",
       "일반      22   22\n",
       "통합 패키지   5    5\n",
       "프로모션    17   17\n",
       "All     56   56"
      ]
     },
     "execution_count": 71,
     "metadata": {},
     "output_type": "execute_result"
    }
   ],
   "source": [
    "a = pd.crosstab(df_new_b['계약유형'], df_new_b['해약여부'], margins=True)\n",
    "a"
   ]
  },
  {
   "cell_type": "code",
   "execution_count": 93,
   "metadata": {},
   "outputs": [
    {
     "name": "stdout",
     "output_type": "stream",
     "text": [
      "3.743720974991194e-06\n"
     ]
    }
   ],
   "source": [
    "c1 = [a.loc['멤버십S'][0],a.loc['멤버십S'][1]]\n",
    "c2 = [a.loc['프로모션'][0],a.loc['프로모션'][1]]\n",
    "_, p_value, _, _ = scipy.stats.chi2_contingency([c1, c2])\n",
    "print(p_value)"
   ]
  },
  {
   "cell_type": "markdown",
   "metadata": {},
   "source": [
    "일반과 프로모션간에 해지율 차이 없다."
   ]
  },
  {
   "cell_type": "code",
   "execution_count": 95,
   "metadata": {},
   "outputs": [
    {
     "data": {
      "text/html": [
       "<div>\n",
       "<style scoped>\n",
       "    .dataframe tbody tr th:only-of-type {\n",
       "        vertical-align: middle;\n",
       "    }\n",
       "\n",
       "    .dataframe tbody tr th {\n",
       "        vertical-align: top;\n",
       "    }\n",
       "\n",
       "    .dataframe thead th {\n",
       "        text-align: right;\n",
       "    }\n",
       "</style>\n",
       "<table border=\"1\" class=\"dataframe\">\n",
       "  <thead>\n",
       "    <tr style=\"text-align: right;\">\n",
       "      <th>해약여부</th>\n",
       "      <th>정상</th>\n",
       "      <th>해약</th>\n",
       "      <th>All</th>\n",
       "    </tr>\n",
       "    <tr>\n",
       "      <th>유통경로</th>\n",
       "      <th></th>\n",
       "      <th></th>\n",
       "      <th></th>\n",
       "    </tr>\n",
       "  </thead>\n",
       "  <tbody>\n",
       "    <tr>\n",
       "      <th>R관리방판</th>\n",
       "      <td>561</td>\n",
       "      <td>3</td>\n",
       "      <td>564</td>\n",
       "    </tr>\n",
       "    <tr>\n",
       "      <th>R농협</th>\n",
       "      <td>119</td>\n",
       "      <td>0</td>\n",
       "      <td>119</td>\n",
       "    </tr>\n",
       "    <tr>\n",
       "      <th>R농협인터넷몰</th>\n",
       "      <td>7</td>\n",
       "      <td>0</td>\n",
       "      <td>7</td>\n",
       "    </tr>\n",
       "    <tr>\n",
       "      <th>R렌탈운영</th>\n",
       "      <td>13</td>\n",
       "      <td>0</td>\n",
       "      <td>13</td>\n",
       "    </tr>\n",
       "    <tr>\n",
       "      <th>R법인</th>\n",
       "      <td>19</td>\n",
       "      <td>0</td>\n",
       "      <td>19</td>\n",
       "    </tr>\n",
       "    <tr>\n",
       "      <th>R법인그룹</th>\n",
       "      <td>18</td>\n",
       "      <td>0</td>\n",
       "      <td>18</td>\n",
       "    </tr>\n",
       "    <tr>\n",
       "      <th>R빌리미</th>\n",
       "      <td>102</td>\n",
       "      <td>0</td>\n",
       "      <td>102</td>\n",
       "    </tr>\n",
       "    <tr>\n",
       "      <th>R유통사</th>\n",
       "      <td>188</td>\n",
       "      <td>0</td>\n",
       "      <td>188</td>\n",
       "    </tr>\n",
       "    <tr>\n",
       "      <th>R인터넷</th>\n",
       "      <td>9</td>\n",
       "      <td>0</td>\n",
       "      <td>9</td>\n",
       "    </tr>\n",
       "    <tr>\n",
       "      <th>렌탈재계약</th>\n",
       "      <td>239</td>\n",
       "      <td>2</td>\n",
       "      <td>241</td>\n",
       "    </tr>\n",
       "    <tr>\n",
       "      <th>렌탈총판</th>\n",
       "      <td>885</td>\n",
       "      <td>0</td>\n",
       "      <td>885</td>\n",
       "    </tr>\n",
       "    <tr>\n",
       "      <th>서비스 방문</th>\n",
       "      <td>1442</td>\n",
       "      <td>0</td>\n",
       "      <td>1442</td>\n",
       "    </tr>\n",
       "    <tr>\n",
       "      <th>영업방판</th>\n",
       "      <td>707</td>\n",
       "      <td>0</td>\n",
       "      <td>707</td>\n",
       "    </tr>\n",
       "    <tr>\n",
       "      <th>이마트</th>\n",
       "      <td>17</td>\n",
       "      <td>0</td>\n",
       "      <td>17</td>\n",
       "    </tr>\n",
       "    <tr>\n",
       "      <th>일반</th>\n",
       "      <td>224</td>\n",
       "      <td>0</td>\n",
       "      <td>224</td>\n",
       "    </tr>\n",
       "    <tr>\n",
       "      <th>전자랜드</th>\n",
       "      <td>79</td>\n",
       "      <td>0</td>\n",
       "      <td>79</td>\n",
       "    </tr>\n",
       "    <tr>\n",
       "      <th>하이마트</th>\n",
       "      <td>86</td>\n",
       "      <td>0</td>\n",
       "      <td>86</td>\n",
       "    </tr>\n",
       "    <tr>\n",
       "      <th>홈쇼핑/방송</th>\n",
       "      <td>297</td>\n",
       "      <td>0</td>\n",
       "      <td>297</td>\n",
       "    </tr>\n",
       "    <tr>\n",
       "      <th>홈쇼핑/인터넷</th>\n",
       "      <td>6</td>\n",
       "      <td>0</td>\n",
       "      <td>6</td>\n",
       "    </tr>\n",
       "    <tr>\n",
       "      <th>홈플러스</th>\n",
       "      <td>13</td>\n",
       "      <td>0</td>\n",
       "      <td>13</td>\n",
       "    </tr>\n",
       "    <tr>\n",
       "      <th>All</th>\n",
       "      <td>5031</td>\n",
       "      <td>5</td>\n",
       "      <td>5036</td>\n",
       "    </tr>\n",
       "  </tbody>\n",
       "</table>\n",
       "</div>"
      ],
      "text/plain": [
       "해약여부       정상  해약   All\n",
       "유통경로                   \n",
       "R관리방판     561   3   564\n",
       "R농협       119   0   119\n",
       "R농협인터넷몰     7   0     7\n",
       "R렌탈운영      13   0    13\n",
       "R법인        19   0    19\n",
       "R법인그룹      18   0    18\n",
       "R빌리미      102   0   102\n",
       "R유통사      188   0   188\n",
       "R인터넷        9   0     9\n",
       "렌탈재계약     239   2   241\n",
       "렌탈총판      885   0   885\n",
       "서비스 방문   1442   0  1442\n",
       "영업방판      707   0   707\n",
       "이마트        17   0    17\n",
       "일반        224   0   224\n",
       "전자랜드       79   0    79\n",
       "하이마트       86   0    86\n",
       "홈쇼핑/방송    297   0   297\n",
       "홈쇼핑/인터넷     6   0     6\n",
       "홈플러스       13   0    13\n",
       "All      5031   5  5036"
      ]
     },
     "execution_count": 95,
     "metadata": {},
     "output_type": "execute_result"
    }
   ],
   "source": [
    "a = pd.crosstab(df_new_b['유통경로'], df_new_b['해약여부'], margins=True)\n",
    "a"
   ]
  },
  {
   "cell_type": "code",
   "execution_count": 97,
   "metadata": {},
   "outputs": [
    {
     "name": "stdout",
     "output_type": "stream",
     "text": [
      "0.51521273223531\n"
     ]
    }
   ],
   "source": [
    "c1 = [a.loc['R관리방판'][0],a.loc['R관리방판'][1]]\n",
    "c2 = [a.loc['홈쇼핑/방송'][0],a.loc['홈쇼핑/방송'][1]]\n",
    "_, p_value, _, _ = scipy.stats.chi2_contingency([c1, c2])\n",
    "print(p_value)"
   ]
  },
  {
   "cell_type": "markdown",
   "metadata": {},
   "source": [
    "두집단간 해지율 차이 있다."
   ]
  },
  {
   "cell_type": "code",
   "execution_count": 98,
   "metadata": {},
   "outputs": [
    {
     "data": {
      "text/html": [
       "<div>\n",
       "<style scoped>\n",
       "    .dataframe tbody tr th:only-of-type {\n",
       "        vertical-align: middle;\n",
       "    }\n",
       "\n",
       "    .dataframe tbody tr th {\n",
       "        vertical-align: top;\n",
       "    }\n",
       "\n",
       "    .dataframe thead th {\n",
       "        text-align: right;\n",
       "    }\n",
       "</style>\n",
       "<table border=\"1\" class=\"dataframe\">\n",
       "  <thead>\n",
       "    <tr style=\"text-align: right;\">\n",
       "      <th>해약여부</th>\n",
       "      <th>정상</th>\n",
       "      <th>해약</th>\n",
       "      <th>All</th>\n",
       "    </tr>\n",
       "    <tr>\n",
       "      <th>납부유형</th>\n",
       "      <th></th>\n",
       "      <th></th>\n",
       "      <th></th>\n",
       "    </tr>\n",
       "  </thead>\n",
       "  <tbody>\n",
       "    <tr>\n",
       "      <th>CMS</th>\n",
       "      <td>3953</td>\n",
       "      <td>4</td>\n",
       "      <td>3957</td>\n",
       "    </tr>\n",
       "    <tr>\n",
       "      <th>가상계좌</th>\n",
       "      <td>611</td>\n",
       "      <td>0</td>\n",
       "      <td>611</td>\n",
       "    </tr>\n",
       "    <tr>\n",
       "      <th>무통장</th>\n",
       "      <td>1</td>\n",
       "      <td>0</td>\n",
       "      <td>1</td>\n",
       "    </tr>\n",
       "    <tr>\n",
       "      <th>지로</th>\n",
       "      <td>65</td>\n",
       "      <td>0</td>\n",
       "      <td>65</td>\n",
       "    </tr>\n",
       "    <tr>\n",
       "      <th>카드이체</th>\n",
       "      <td>401</td>\n",
       "      <td>1</td>\n",
       "      <td>402</td>\n",
       "    </tr>\n",
       "    <tr>\n",
       "      <th>All</th>\n",
       "      <td>5031</td>\n",
       "      <td>5</td>\n",
       "      <td>5036</td>\n",
       "    </tr>\n",
       "  </tbody>\n",
       "</table>\n",
       "</div>"
      ],
      "text/plain": [
       "해약여부    정상  해약   All\n",
       "납부유형                \n",
       "CMS   3953   4  3957\n",
       "가상계좌   611   0   611\n",
       "무통장      1   0     1\n",
       "지로      65   0    65\n",
       "카드이체   401   1   402\n",
       "All   5031   5  5036"
      ]
     },
     "execution_count": 98,
     "metadata": {},
     "output_type": "execute_result"
    }
   ],
   "source": [
    "a = pd.crosstab(df_new_b['납부유형'], df_new_b['해약여부'], margins=True)\n",
    "a"
   ]
  },
  {
   "cell_type": "code",
   "execution_count": 99,
   "metadata": {},
   "outputs": [
    {
     "name": "stdout",
     "output_type": "stream",
     "text": [
      "0.9520469503408846\n"
     ]
    }
   ],
   "source": [
    "c1 = [a.loc['CMS'][0],a.loc['CMS'][1]]\n",
    "c2 = [a.loc['카드이체'][0],a.loc['카드이체'][1]]\n",
    "_, p_value, _, _ = scipy.stats.chi2_contingency([c1, c2])\n",
    "print(p_value)"
   ]
  },
  {
   "cell_type": "markdown",
   "metadata": {},
   "source": [
    "CMS와 카드이체 간에 해지율 차이 있다."
   ]
  },
  {
   "cell_type": "code",
   "execution_count": 100,
   "metadata": {},
   "outputs": [
    {
     "data": {
      "text/html": [
       "<div>\n",
       "<style scoped>\n",
       "    .dataframe tbody tr th:only-of-type {\n",
       "        vertical-align: middle;\n",
       "    }\n",
       "\n",
       "    .dataframe tbody tr th {\n",
       "        vertical-align: top;\n",
       "    }\n",
       "\n",
       "    .dataframe thead th {\n",
       "        text-align: right;\n",
       "    }\n",
       "</style>\n",
       "<table border=\"1\" class=\"dataframe\">\n",
       "  <thead>\n",
       "    <tr style=\"text-align: right;\">\n",
       "      <th>해약여부</th>\n",
       "      <th>정상</th>\n",
       "      <th>해약</th>\n",
       "      <th>All</th>\n",
       "    </tr>\n",
       "    <tr>\n",
       "      <th>제품군</th>\n",
       "      <th></th>\n",
       "      <th></th>\n",
       "      <th></th>\n",
       "    </tr>\n",
       "  </thead>\n",
       "  <tbody>\n",
       "    <tr>\n",
       "      <th>DES-1</th>\n",
       "      <td>4142</td>\n",
       "      <td>5</td>\n",
       "      <td>4147</td>\n",
       "    </tr>\n",
       "    <tr>\n",
       "      <th>DES-2</th>\n",
       "      <td>623</td>\n",
       "      <td>0</td>\n",
       "      <td>623</td>\n",
       "    </tr>\n",
       "    <tr>\n",
       "      <th>DES-3A</th>\n",
       "      <td>213</td>\n",
       "      <td>0</td>\n",
       "      <td>213</td>\n",
       "    </tr>\n",
       "    <tr>\n",
       "      <th>DES-R4</th>\n",
       "      <td>11</td>\n",
       "      <td>0</td>\n",
       "      <td>11</td>\n",
       "    </tr>\n",
       "    <tr>\n",
       "      <th>ERA</th>\n",
       "      <td>17</td>\n",
       "      <td>0</td>\n",
       "      <td>17</td>\n",
       "    </tr>\n",
       "    <tr>\n",
       "      <th>MMC</th>\n",
       "      <td>25</td>\n",
       "      <td>0</td>\n",
       "      <td>25</td>\n",
       "    </tr>\n",
       "    <tr>\n",
       "      <th>All</th>\n",
       "      <td>5031</td>\n",
       "      <td>5</td>\n",
       "      <td>5036</td>\n",
       "    </tr>\n",
       "  </tbody>\n",
       "</table>\n",
       "</div>"
      ],
      "text/plain": [
       "해약여부      정상  해약   All\n",
       "제품군                   \n",
       "DES-1   4142   5  4147\n",
       "DES-2    623   0   623\n",
       "DES-3A   213   0   213\n",
       "DES-R4    11   0    11\n",
       "ERA       17   0    17\n",
       "MMC       25   0    25\n",
       "All     5031   5  5036"
      ]
     },
     "execution_count": 100,
     "metadata": {},
     "output_type": "execute_result"
    }
   ],
   "source": [
    "a = pd.crosstab(df_new_b['제품군'], df_new_b['해약여부'], margins=True)\n",
    "a"
   ]
  },
  {
   "cell_type": "code",
   "execution_count": 101,
   "metadata": {},
   "outputs": [
    {
     "name": "stdout",
     "output_type": "stream",
     "text": [
      "0.8389674307731579\n"
     ]
    }
   ],
   "source": [
    "c1 = [a.loc['DES-1'][0],a.loc['DES-1'][1]]\n",
    "c2 = [a.loc['DES-2'][0],a.loc['DES-2'][1]]\n",
    "_, p_value, _, _ = scipy.stats.chi2_contingency([c1, c2])\n",
    "print(p_value)"
   ]
  },
  {
   "cell_type": "markdown",
   "metadata": {},
   "source": [
    "두집단간 차이 있다."
   ]
  },
  {
   "cell_type": "code",
   "execution_count": 102,
   "metadata": {},
   "outputs": [
    {
     "data": {
      "text/html": [
       "<div>\n",
       "<style scoped>\n",
       "    .dataframe tbody tr th:only-of-type {\n",
       "        vertical-align: middle;\n",
       "    }\n",
       "\n",
       "    .dataframe tbody tr th {\n",
       "        vertical-align: top;\n",
       "    }\n",
       "\n",
       "    .dataframe thead th {\n",
       "        text-align: right;\n",
       "    }\n",
       "</style>\n",
       "<table border=\"1\" class=\"dataframe\">\n",
       "  <thead>\n",
       "    <tr style=\"text-align: right;\">\n",
       "      <th>해약여부</th>\n",
       "      <th>정상</th>\n",
       "      <th>해약</th>\n",
       "      <th>All</th>\n",
       "    </tr>\n",
       "    <tr>\n",
       "      <th>계약상태</th>\n",
       "      <th></th>\n",
       "      <th></th>\n",
       "      <th></th>\n",
       "    </tr>\n",
       "  </thead>\n",
       "  <tbody>\n",
       "    <tr>\n",
       "      <th>계약확정</th>\n",
       "      <td>5026</td>\n",
       "      <td>1</td>\n",
       "      <td>5027</td>\n",
       "    </tr>\n",
       "    <tr>\n",
       "      <th>기간만료</th>\n",
       "      <td>4</td>\n",
       "      <td>0</td>\n",
       "      <td>4</td>\n",
       "    </tr>\n",
       "    <tr>\n",
       "      <th>해약진행중</th>\n",
       "      <td>1</td>\n",
       "      <td>0</td>\n",
       "      <td>1</td>\n",
       "    </tr>\n",
       "    <tr>\n",
       "      <th>해약확정</th>\n",
       "      <td>0</td>\n",
       "      <td>4</td>\n",
       "      <td>4</td>\n",
       "    </tr>\n",
       "    <tr>\n",
       "      <th>All</th>\n",
       "      <td>5031</td>\n",
       "      <td>5</td>\n",
       "      <td>5036</td>\n",
       "    </tr>\n",
       "  </tbody>\n",
       "</table>\n",
       "</div>"
      ],
      "text/plain": [
       "해약여부     정상  해약   All\n",
       "계약상태                 \n",
       "계약확정   5026   1  5027\n",
       "기간만료      4   0     4\n",
       "해약진행중     1   0     1\n",
       "해약확정      0   4     4\n",
       "All    5031   5  5036"
      ]
     },
     "execution_count": 102,
     "metadata": {},
     "output_type": "execute_result"
    }
   ],
   "source": [
    "a = pd.crosstab(df_new_b['계약상태'], df_new_b['해약여부'], margins=True)\n",
    "a"
   ]
  },
  {
   "cell_type": "code",
   "execution_count": 103,
   "metadata": {},
   "outputs": [
    {
     "name": "stdout",
     "output_type": "stream",
     "text": [
      "0.0\n"
     ]
    }
   ],
   "source": [
    "c1 = [a.loc['계약확정'][0],a.loc['계약확정'][1]]\n",
    "c2 = [a.loc['해약확정'][0],a.loc['해약확정'][1]]\n",
    "_, p_value, _, _ = scipy.stats.chi2_contingency([c1, c2])\n",
    "print(p_value)"
   ]
  },
  {
   "cell_type": "markdown",
   "metadata": {},
   "source": [
    "두집단간 차이 있음"
   ]
  },
  {
   "cell_type": "code",
   "execution_count": 6,
   "metadata": {},
   "outputs": [
    {
     "data": {
      "text/html": [
       "<div>\n",
       "<style scoped>\n",
       "    .dataframe tbody tr th:only-of-type {\n",
       "        vertical-align: middle;\n",
       "    }\n",
       "\n",
       "    .dataframe tbody tr th {\n",
       "        vertical-align: top;\n",
       "    }\n",
       "\n",
       "    .dataframe thead th {\n",
       "        text-align: right;\n",
       "    }\n",
       "</style>\n",
       "<table border=\"1\" class=\"dataframe\">\n",
       "  <thead>\n",
       "    <tr style=\"text-align: right;\">\n",
       "      <th>해약여부</th>\n",
       "      <th>정상</th>\n",
       "      <th>해약</th>\n",
       "      <th>All</th>\n",
       "    </tr>\n",
       "    <tr>\n",
       "      <th>연체여부</th>\n",
       "      <th></th>\n",
       "      <th></th>\n",
       "      <th></th>\n",
       "    </tr>\n",
       "  </thead>\n",
       "  <tbody>\n",
       "    <tr>\n",
       "      <th>없음</th>\n",
       "      <td>4652</td>\n",
       "      <td>5</td>\n",
       "      <td>4657</td>\n",
       "    </tr>\n",
       "    <tr>\n",
       "      <th>있음</th>\n",
       "      <td>379</td>\n",
       "      <td>0</td>\n",
       "      <td>379</td>\n",
       "    </tr>\n",
       "    <tr>\n",
       "      <th>All</th>\n",
       "      <td>5031</td>\n",
       "      <td>5</td>\n",
       "      <td>5036</td>\n",
       "    </tr>\n",
       "  </tbody>\n",
       "</table>\n",
       "</div>"
      ],
      "text/plain": [
       "해약여부    정상  해약   All\n",
       "연체여부                \n",
       "없음    4652   5  4657\n",
       "있음     379   0   379\n",
       "All   5031   5  5036"
      ]
     },
     "execution_count": 6,
     "metadata": {},
     "output_type": "execute_result"
    }
   ],
   "source": [
    "a = pd.crosstab(df_new_b['연체여부'], df_new_b['해약여부'], margins=True)\n",
    "a"
   ]
  },
  {
   "cell_type": "code",
   "execution_count": 105,
   "metadata": {},
   "outputs": [
    {
     "name": "stdout",
     "output_type": "stream",
     "text": [
      "0.8338084870976082\n"
     ]
    }
   ],
   "source": [
    "c1 = [a.loc['있음'][0],a.loc['있음'][1]]\n",
    "c2 = [a.loc['없음'][0],a.loc['없음'][1]]\n",
    "_, p_value, _, _ = scipy.stats.chi2_contingency([c1, c2])\n",
    "print(p_value)"
   ]
  },
  {
   "cell_type": "markdown",
   "metadata": {},
   "source": [
    "유의수준 0.05보다 크므로 귀무가설(렌탈집단과 멤버십집단은 이탈율이 같다)을 기각할 수 없다.\n",
    "\n",
    "즉, 두 집단의 이탈율은 같다."
   ]
  },
  {
   "cell_type": "code",
   "execution_count": 106,
   "metadata": {},
   "outputs": [
    {
     "data": {
      "text/html": [
       "<div>\n",
       "<style scoped>\n",
       "    .dataframe tbody tr th:only-of-type {\n",
       "        vertical-align: middle;\n",
       "    }\n",
       "\n",
       "    .dataframe tbody tr th {\n",
       "        vertical-align: top;\n",
       "    }\n",
       "\n",
       "    .dataframe thead th {\n",
       "        text-align: right;\n",
       "    }\n",
       "</style>\n",
       "<table border=\"1\" class=\"dataframe\">\n",
       "  <thead>\n",
       "    <tr style=\"text-align: right;\">\n",
       "      <th>해약여부</th>\n",
       "      <th>정상</th>\n",
       "      <th>해약</th>\n",
       "      <th>All</th>\n",
       "    </tr>\n",
       "    <tr>\n",
       "      <th>결제은행</th>\n",
       "      <th></th>\n",
       "      <th></th>\n",
       "      <th></th>\n",
       "    </tr>\n",
       "  </thead>\n",
       "  <tbody>\n",
       "    <tr>\n",
       "      <th>BC카드</th>\n",
       "      <td>97</td>\n",
       "      <td>0</td>\n",
       "      <td>97</td>\n",
       "    </tr>\n",
       "    <tr>\n",
       "      <th>NH농협카드</th>\n",
       "      <td>2</td>\n",
       "      <td>0</td>\n",
       "      <td>2</td>\n",
       "    </tr>\n",
       "    <tr>\n",
       "      <th>SC제일은행</th>\n",
       "      <td>128</td>\n",
       "      <td>1</td>\n",
       "      <td>129</td>\n",
       "    </tr>\n",
       "    <tr>\n",
       "      <th>경남은행</th>\n",
       "      <td>65</td>\n",
       "      <td>0</td>\n",
       "      <td>65</td>\n",
       "    </tr>\n",
       "    <tr>\n",
       "      <th>광주은행</th>\n",
       "      <td>67</td>\n",
       "      <td>0</td>\n",
       "      <td>67</td>\n",
       "    </tr>\n",
       "    <tr>\n",
       "      <th>국민은행</th>\n",
       "      <td>752</td>\n",
       "      <td>2</td>\n",
       "      <td>754</td>\n",
       "    </tr>\n",
       "    <tr>\n",
       "      <th>국민카드</th>\n",
       "      <td>68</td>\n",
       "      <td>0</td>\n",
       "      <td>68</td>\n",
       "    </tr>\n",
       "    <tr>\n",
       "      <th>기업은행</th>\n",
       "      <td>704</td>\n",
       "      <td>0</td>\n",
       "      <td>704</td>\n",
       "    </tr>\n",
       "    <tr>\n",
       "      <th>농협중앙회</th>\n",
       "      <td>450</td>\n",
       "      <td>1</td>\n",
       "      <td>451</td>\n",
       "    </tr>\n",
       "    <tr>\n",
       "      <th>농협회원조합</th>\n",
       "      <td>530</td>\n",
       "      <td>0</td>\n",
       "      <td>530</td>\n",
       "    </tr>\n",
       "    <tr>\n",
       "      <th>대구은행</th>\n",
       "      <td>106</td>\n",
       "      <td>0</td>\n",
       "      <td>106</td>\n",
       "    </tr>\n",
       "    <tr>\n",
       "      <th>롯데카드</th>\n",
       "      <td>137</td>\n",
       "      <td>0</td>\n",
       "      <td>137</td>\n",
       "    </tr>\n",
       "    <tr>\n",
       "      <th>부산은행</th>\n",
       "      <td>98</td>\n",
       "      <td>0</td>\n",
       "      <td>98</td>\n",
       "    </tr>\n",
       "    <tr>\n",
       "      <th>산업은행</th>\n",
       "      <td>7</td>\n",
       "      <td>0</td>\n",
       "      <td>7</td>\n",
       "    </tr>\n",
       "    <tr>\n",
       "      <th>삼성카드</th>\n",
       "      <td>14</td>\n",
       "      <td>0</td>\n",
       "      <td>14</td>\n",
       "    </tr>\n",
       "    <tr>\n",
       "      <th>상호저축은행</th>\n",
       "      <td>1</td>\n",
       "      <td>0</td>\n",
       "      <td>1</td>\n",
       "    </tr>\n",
       "    <tr>\n",
       "      <th>새마을금고</th>\n",
       "      <td>105</td>\n",
       "      <td>1</td>\n",
       "      <td>106</td>\n",
       "    </tr>\n",
       "    <tr>\n",
       "      <th>수협중앙회</th>\n",
       "      <td>24</td>\n",
       "      <td>0</td>\n",
       "      <td>24</td>\n",
       "    </tr>\n",
       "    <tr>\n",
       "      <th>신한은행</th>\n",
       "      <td>550</td>\n",
       "      <td>0</td>\n",
       "      <td>550</td>\n",
       "    </tr>\n",
       "    <tr>\n",
       "      <th>신한카드</th>\n",
       "      <td>46</td>\n",
       "      <td>0</td>\n",
       "      <td>46</td>\n",
       "    </tr>\n",
       "    <tr>\n",
       "      <th>신협중앙회</th>\n",
       "      <td>38</td>\n",
       "      <td>0</td>\n",
       "      <td>38</td>\n",
       "    </tr>\n",
       "    <tr>\n",
       "      <th>씨티은행</th>\n",
       "      <td>29</td>\n",
       "      <td>0</td>\n",
       "      <td>29</td>\n",
       "    </tr>\n",
       "    <tr>\n",
       "      <th>씨티카드</th>\n",
       "      <td>1</td>\n",
       "      <td>0</td>\n",
       "      <td>1</td>\n",
       "    </tr>\n",
       "    <tr>\n",
       "      <th>외환은행</th>\n",
       "      <td>105</td>\n",
       "      <td>0</td>\n",
       "      <td>105</td>\n",
       "    </tr>\n",
       "    <tr>\n",
       "      <th>외환카드</th>\n",
       "      <td>25</td>\n",
       "      <td>0</td>\n",
       "      <td>25</td>\n",
       "    </tr>\n",
       "    <tr>\n",
       "      <th>우리은행</th>\n",
       "      <td>512</td>\n",
       "      <td>0</td>\n",
       "      <td>512</td>\n",
       "    </tr>\n",
       "    <tr>\n",
       "      <th>우체국</th>\n",
       "      <td>28</td>\n",
       "      <td>0</td>\n",
       "      <td>28</td>\n",
       "    </tr>\n",
       "    <tr>\n",
       "      <th>전북은행</th>\n",
       "      <td>28</td>\n",
       "      <td>0</td>\n",
       "      <td>28</td>\n",
       "    </tr>\n",
       "    <tr>\n",
       "      <th>제주은행</th>\n",
       "      <td>10</td>\n",
       "      <td>0</td>\n",
       "      <td>10</td>\n",
       "    </tr>\n",
       "    <tr>\n",
       "      <th>하나은행</th>\n",
       "      <td>279</td>\n",
       "      <td>0</td>\n",
       "      <td>279</td>\n",
       "    </tr>\n",
       "    <tr>\n",
       "      <th>현대카드</th>\n",
       "      <td>25</td>\n",
       "      <td>0</td>\n",
       "      <td>25</td>\n",
       "    </tr>\n",
       "    <tr>\n",
       "      <th>All</th>\n",
       "      <td>5031</td>\n",
       "      <td>5</td>\n",
       "      <td>5036</td>\n",
       "    </tr>\n",
       "  </tbody>\n",
       "</table>\n",
       "</div>"
      ],
      "text/plain": [
       "해약여부      정상  해약   All\n",
       "결제은행                  \n",
       "BC카드      97   0    97\n",
       "NH농협카드     2   0     2\n",
       "SC제일은행   128   1   129\n",
       "경남은행      65   0    65\n",
       "광주은행      67   0    67\n",
       "국민은행     752   2   754\n",
       "국민카드      68   0    68\n",
       "기업은행     704   0   704\n",
       "농협중앙회    450   1   451\n",
       "농협회원조합   530   0   530\n",
       "대구은행     106   0   106\n",
       "롯데카드     137   0   137\n",
       "부산은행      98   0    98\n",
       "산업은행       7   0     7\n",
       "삼성카드      14   0    14\n",
       "상호저축은행     1   0     1\n",
       "새마을금고    105   1   106\n",
       "수협중앙회     24   0    24\n",
       "신한은행     550   0   550\n",
       "신한카드      46   0    46\n",
       "신협중앙회     38   0    38\n",
       "씨티은행      29   0    29\n",
       "씨티카드       1   0     1\n",
       "외환은행     105   0   105\n",
       "외환카드      25   0    25\n",
       "우리은행     512   0   512\n",
       "우체국       28   0    28\n",
       "전북은행      28   0    28\n",
       "제주은행      10   0    10\n",
       "하나은행     279   0   279\n",
       "현대카드      25   0    25\n",
       "All     5031   5  5036"
      ]
     },
     "execution_count": 106,
     "metadata": {},
     "output_type": "execute_result"
    }
   ],
   "source": [
    "a = pd.crosstab(df_new_b['결제은행'], df_new_b['해약여부'], margins=True)\n",
    "a"
   ]
  },
  {
   "cell_type": "code",
   "execution_count": 108,
   "metadata": {},
   "outputs": [
    {
     "name": "stdout",
     "output_type": "stream",
     "text": [
      "0.7056249352226394\n"
     ]
    }
   ],
   "source": [
    "c1 = [a.loc['롯데카드'][0],a.loc['롯데카드'][1]]\n",
    "c2 = [a.loc['국민은행'][0],a.loc['국민은행'][1]]\n",
    "_, p_value, _, _ = scipy.stats.chi2_contingency([c1, c2])\n",
    "print(p_value)"
   ]
  },
  {
   "cell_type": "markdown",
   "metadata": {},
   "source": [
    "롯데카드와 국민카드 그룹간 해지율 차이 없음"
   ]
  },
  {
   "cell_type": "markdown",
   "metadata": {},
   "source": [
    "# 연속형 변수"
   ]
  },
  {
   "cell_type": "code",
   "execution_count": 53,
   "metadata": {
    "scrolled": true
   },
   "outputs": [
    {
     "data": {
      "text/plain": [
       "<matplotlib.axes._subplots.AxesSubplot at 0x7fd4ba1bb278>"
      ]
     },
     "execution_count": 53,
     "metadata": {},
     "output_type": "execute_result"
    },
    {
     "data": {
      "image/png": "[encoded data removed]",
      "text/plain": [
       "<Figure size 432x288 with 1 Axes>"
      ]
     },
     "metadata": {},
     "output_type": "display_data"
    }
   ],
   "source": [
    "sns.boxplot(x=df_new_b['월랜탈비용'])"
   ]
  },
  {
   "cell_type": "code",
   "execution_count": 81,
   "metadata": {},
   "outputs": [
    {
     "data": {
      "text/plain": [
       "렌탈     54\n",
       "멤버십     2\n",
       "Name: 판매유형, dtype: int64"
      ]
     },
     "execution_count": 81,
     "metadata": {},
     "output_type": "execute_result"
    }
   ],
   "source": [
    "df_new_b['판매유형'].value_counts()"
   ]
  },
  {
   "cell_type": "code",
   "execution_count": 82,
   "metadata": {},
   "outputs": [
    {
     "data": {
      "text/html": [
       "<div>\n",
       "<style scoped>\n",
       "    .dataframe tbody tr th:only-of-type {\n",
       "        vertical-align: middle;\n",
       "    }\n",
       "\n",
       "    .dataframe tbody tr th {\n",
       "        vertical-align: top;\n",
       "    }\n",
       "\n",
       "    .dataframe thead th {\n",
       "        text-align: right;\n",
       "    }\n",
       "</style>\n",
       "<table border=\"1\" class=\"dataframe\">\n",
       "  <thead>\n",
       "    <tr style=\"text-align: right;\">\n",
       "      <th></th>\n",
       "      <th>고객ID</th>\n",
       "      <th>고객유형</th>\n",
       "      <th>거주지</th>\n",
       "      <th>시</th>\n",
       "      <th>구군</th>\n",
       "      <th>남여구분</th>\n",
       "      <th>판매유형</th>\n",
       "      <th>계약유형</th>\n",
       "      <th>유통경로</th>\n",
       "      <th>계약일</th>\n",
       "      <th>계약기간</th>\n",
       "      <th>납부유형</th>\n",
       "      <th>제품군</th>\n",
       "      <th>월랜탈비용</th>\n",
       "      <th>계약상태</th>\n",
       "      <th>연체건수</th>\n",
       "      <th>연체여부</th>\n",
       "      <th>결제은행</th>\n",
       "      <th>해약여부</th>\n",
       "      <th>계정수</th>\n",
       "    </tr>\n",
       "  </thead>\n",
       "  <tbody>\n",
       "    <tr>\n",
       "      <th>1353</th>\n",
       "      <td>25855259</td>\n",
       "      <td>사업자</td>\n",
       "      <td>서울특별시</td>\n",
       "      <td>서울특별시</td>\n",
       "      <td>강남구</td>\n",
       "      <td>여자</td>\n",
       "      <td>멤버십</td>\n",
       "      <td>멤버십S</td>\n",
       "      <td>렌탈재계약</td>\n",
       "      <td>11-11-2014</td>\n",
       "      <td>12</td>\n",
       "      <td>CMS</td>\n",
       "      <td>DES-1</td>\n",
       "      <td>66900</td>\n",
       "      <td>계약확정</td>\n",
       "      <td>0</td>\n",
       "      <td>없음</td>\n",
       "      <td>신한은행</td>\n",
       "      <td>정상</td>\n",
       "      <td>8</td>\n",
       "    </tr>\n",
       "    <tr>\n",
       "      <th>1806</th>\n",
       "      <td>25744138</td>\n",
       "      <td>사업자</td>\n",
       "      <td>서울특별시</td>\n",
       "      <td>서울특별시</td>\n",
       "      <td>중구</td>\n",
       "      <td>여자</td>\n",
       "      <td>멤버십</td>\n",
       "      <td>멥버십C</td>\n",
       "      <td>R농협인터넷몰</td>\n",
       "      <td>11-19-2014</td>\n",
       "      <td>36</td>\n",
       "      <td>카드이체</td>\n",
       "      <td>DES-3A</td>\n",
       "      <td>75900</td>\n",
       "      <td>계약확정</td>\n",
       "      <td>0</td>\n",
       "      <td>없음</td>\n",
       "      <td>국민카드</td>\n",
       "      <td>정상</td>\n",
       "      <td>5</td>\n",
       "    </tr>\n",
       "  </tbody>\n",
       "</table>\n",
       "</div>"
      ],
      "text/plain": [
       "          고객ID 고객유형    거주지      시    구군 남여구분 판매유형  계약유형     유통경로         계약일  \\\n",
       "1353  25855259  사업자  서울특별시  서울특별시   강남구   여자  멤버십  멤버십S    렌탈재계약  11-11-2014   \n",
       "1806  25744138  사업자  서울특별시  서울특별시    중구   여자  멤버십  멥버십C  R농협인터넷몰  11-19-2014   \n",
       "\n",
       "      계약기간  납부유형     제품군  월랜탈비용  계약상태  연체건수 연체여부  결제은행 해약여부  계정수  \n",
       "1353    12   CMS   DES-1  66900  계약확정     0   없음  신한은행   정상    8  \n",
       "1806    36  카드이체  DES-3A  75900  계약확정     0   없음  국민카드   정상    5  "
      ]
     },
     "execution_count": 82,
     "metadata": {},
     "output_type": "execute_result"
    }
   ],
   "source": [
    "df_new_b[df_new_b['판매유형']=='멤버십']"
   ]
  },
  {
   "cell_type": "code",
   "execution_count": 54,
   "metadata": {},
   "outputs": [
    {
     "name": "stdout",
     "output_type": "stream",
     "text": [
      "LeveneResult(F) : nan \n",
      "p-value : nan\n"
     ]
    },
    {
     "name": "stderr",
     "output_type": "stream",
     "text": [
      "/home/pirl/anaconda3/lib/python3.7/site-packages/numpy/core/fromnumeric.py:3118: RuntimeWarning: Mean of empty slice.\n",
      "  out=out, **kwargs)\n",
      "/home/pirl/anaconda3/lib/python3.7/site-packages/numpy/core/_methods.py:85: RuntimeWarning: invalid value encountered in double_scalars\n",
      "  ret = ret.dtype.type(ret / rcount)\n"
     ]
    }
   ],
   "source": [
    "def ttest(x):\n",
    "    OUT = df_new_b[df_new_b['해약여부'] == '해약'][x] \n",
    "    IN = df_new_b[df_new_b['해약여부'] == '정상'][x]\n",
    "    lresult = stats.levene(OUT.values, IN.values)\n",
    "    print('LeveneResult(F) : %.3f \\np-value : %.3f' % (lresult))\n",
    "\n",
    "ttest('월랜탈비용')"
   ]
  },
  {
   "cell_type": "markdown",
   "metadata": {},
   "source": [
    " 해약여부에 따른 월랜탈비용 그룹의 차이가 있다고 볼 수 있다."
   ]
  },
  {
   "cell_type": "code",
   "execution_count": 55,
   "metadata": {},
   "outputs": [
    {
     "name": "stdout",
     "output_type": "stream",
     "text": [
      "One-way-ANOVA\n",
      "F검정통계량:2.15\n",
      "p-value:0.148\n"
     ]
    }
   ],
   "source": [
    "OUT = df_new_b[df_new_b['연체여부']=='없음']['월랜탈비용'] \n",
    "IN = df_new_b[df_new_b['연체여부']=='있음']['월랜탈비용'] \n",
    "\n",
    "f_result = stats.f_oneway(OUT, IN)\n",
    "f,p = f_result.statistic.round(3), f_result.pvalue.round(3)\n",
    "\n",
    "print('One-way-ANOVA')\n",
    "print('F검정통계량:{}'.format(f))\n",
    "print('p-value:{}'.format(p))"
   ]
  },
  {
   "cell_type": "code",
   "execution_count": 56,
   "metadata": {},
   "outputs": [
    {
     "name": "stdout",
     "output_type": "stream",
     "text": [
      "One-way-ANOVA\n",
      "F검정통계량:nan\n",
      "p-value:nan\n"
     ]
    },
    {
     "name": "stderr",
     "output_type": "stream",
     "text": [
      "/home/pirl/anaconda3/lib/python3.7/site-packages/scipy/stats/stats.py:3225: RuntimeWarning: invalid value encountered in double_scalars\n",
      "  ssbn += _square_of_sums(a - offset) / len(a)\n"
     ]
    }
   ],
   "source": [
    "OUT = df_new_b[df_new_b['남여구분']=='남자']['월랜탈비용'] \n",
    "IN = df_new_b[df_new_b['남여구분']=='여자']['월랜탈비용'] \n",
    "\n",
    "f_result = stats.f_oneway(OUT, IN)\n",
    "f,p = f_result.statistic.round(3), f_result.pvalue.round(3)\n",
    "\n",
    "print('One-way-ANOVA')\n",
    "print('F검정통계량:{}'.format(f))\n",
    "print('p-value:{}'.format(p))"
   ]
  },
  {
   "cell_type": "code",
   "execution_count": 57,
   "metadata": {},
   "outputs": [
    {
     "name": "stdout",
     "output_type": "stream",
     "text": [
      "One-way-ANOVA\n",
      "F검정통계량:nan\n",
      "p-value:nan\n"
     ]
    }
   ],
   "source": [
    "df1 = df_new_b[df_new_b['계약기간']==60]['월랜탈비용'] \n",
    "df2 = df_new_b[df_new_b['계약기간']==36]['월랜탈비용'] \n",
    "df3 = df_new_b[df_new_b['계약기간']==39]['월랜탈비용'] \n",
    "df4 = df_new_b[df_new_b['계약기간']==12]['월랜탈비용'] \n",
    "\n",
    "\n",
    "f_result = stats.f_oneway(df1,df2,df3,df4)\n",
    "f,p = f_result.statistic.round(3), f_result.pvalue.round(3)\n",
    "\n",
    "print('One-way-ANOVA')\n",
    "print('F검정통계량:{}'.format(f))\n",
    "print('p-value:{}'.format(p))"
   ]
  },
  {
   "cell_type": "code",
   "execution_count": null,
   "metadata": {},
   "outputs": [],
   "source": []
  },
  {
   "cell_type": "markdown",
   "metadata": {},
   "source": [
    "유의수준 5% 에서 검정결과 p값이 0.0 이므로 그룹간의 평균차이가 있다고 볼 수 있다."
   ]
  },
  {
   "cell_type": "code",
   "execution_count": 61,
   "metadata": {},
   "outputs": [],
   "source": [
    "a = df_new_b['계약일'].value_counts()  # 46000-> 40000\n",
    "# a.values\n",
    "# a.index"
   ]
  },
  {
   "cell_type": "code",
   "execution_count": 63,
   "metadata": {},
   "outputs": [
    {
     "data": {
      "text/html": [
       "<div>\n",
       "<style scoped>\n",
       "    .dataframe tbody tr th:only-of-type {\n",
       "        vertical-align: middle;\n",
       "    }\n",
       "\n",
       "    .dataframe tbody tr th {\n",
       "        vertical-align: top;\n",
       "    }\n",
       "\n",
       "    .dataframe thead th {\n",
       "        text-align: right;\n",
       "    }\n",
       "</style>\n",
       "<table border=\"1\" class=\"dataframe\">\n",
       "  <thead>\n",
       "    <tr style=\"text-align: right;\">\n",
       "      <th></th>\n",
       "      <th>고객ID</th>\n",
       "      <th>고객유형</th>\n",
       "      <th>거주지</th>\n",
       "      <th>시</th>\n",
       "      <th>구군</th>\n",
       "      <th>남여구분</th>\n",
       "      <th>판매유형</th>\n",
       "      <th>계약유형</th>\n",
       "      <th>유통경로</th>\n",
       "      <th>계약일</th>\n",
       "      <th>...</th>\n",
       "      <th>납부유형</th>\n",
       "      <th>제품군</th>\n",
       "      <th>월랜탈비용</th>\n",
       "      <th>계약상태</th>\n",
       "      <th>연체건수</th>\n",
       "      <th>연체여부</th>\n",
       "      <th>결제은행</th>\n",
       "      <th>해약여부</th>\n",
       "      <th>계정수</th>\n",
       "      <th>계약수</th>\n",
       "    </tr>\n",
       "  </thead>\n",
       "  <tbody>\n",
       "    <tr>\n",
       "      <th>0</th>\n",
       "      <td>25869517</td>\n",
       "      <td>사업자</td>\n",
       "      <td>경상도</td>\n",
       "      <td>부산광역시</td>\n",
       "      <td>강서구</td>\n",
       "      <td>여자</td>\n",
       "      <td>렌탈</td>\n",
       "      <td>프로모션</td>\n",
       "      <td>렌탈총판</td>\n",
       "      <td>10-21-2014</td>\n",
       "      <td>...</td>\n",
       "      <td>가상계좌</td>\n",
       "      <td>DES-1</td>\n",
       "      <td>96900</td>\n",
       "      <td>계약확정</td>\n",
       "      <td>0</td>\n",
       "      <td>없음</td>\n",
       "      <td>농협중앙회</td>\n",
       "      <td>정상</td>\n",
       "      <td>45</td>\n",
       "      <td>2</td>\n",
       "    </tr>\n",
       "    <tr>\n",
       "      <th>1</th>\n",
       "      <td>25777820</td>\n",
       "      <td>사업자</td>\n",
       "      <td>경기도</td>\n",
       "      <td>경기도</td>\n",
       "      <td>남양주시</td>\n",
       "      <td>여자</td>\n",
       "      <td>렌탈</td>\n",
       "      <td>프로모션</td>\n",
       "      <td>R유통사</td>\n",
       "      <td>10-21-2014</td>\n",
       "      <td>...</td>\n",
       "      <td>가상계좌</td>\n",
       "      <td>DES-1</td>\n",
       "      <td>180750</td>\n",
       "      <td>계약확정</td>\n",
       "      <td>1</td>\n",
       "      <td>있음</td>\n",
       "      <td>신한은행</td>\n",
       "      <td>정상</td>\n",
       "      <td>187</td>\n",
       "      <td>2</td>\n",
       "    </tr>\n",
       "    <tr>\n",
       "      <th>2</th>\n",
       "      <td>25732653</td>\n",
       "      <td>사업자</td>\n",
       "      <td>서울특별시</td>\n",
       "      <td>서울특별시</td>\n",
       "      <td>강동구</td>\n",
       "      <td>여자</td>\n",
       "      <td>렌탈</td>\n",
       "      <td>프로모션</td>\n",
       "      <td>서비스 방문</td>\n",
       "      <td>10-22-2014</td>\n",
       "      <td>...</td>\n",
       "      <td>CMS</td>\n",
       "      <td>DES-1</td>\n",
       "      <td>111900</td>\n",
       "      <td>계약확정</td>\n",
       "      <td>13</td>\n",
       "      <td>있음</td>\n",
       "      <td>농협회원조합</td>\n",
       "      <td>정상</td>\n",
       "      <td>5</td>\n",
       "      <td>2</td>\n",
       "    </tr>\n",
       "    <tr>\n",
       "      <th>3</th>\n",
       "      <td>25742699</td>\n",
       "      <td>사업자</td>\n",
       "      <td>경기도</td>\n",
       "      <td>경기도</td>\n",
       "      <td>안산시 단원구</td>\n",
       "      <td>여자</td>\n",
       "      <td>렌탈</td>\n",
       "      <td>통합 패키지</td>\n",
       "      <td>일반</td>\n",
       "      <td>10-22-2014</td>\n",
       "      <td>...</td>\n",
       "      <td>CMS</td>\n",
       "      <td>DES-1</td>\n",
       "      <td>81900</td>\n",
       "      <td>계약확정</td>\n",
       "      <td>0</td>\n",
       "      <td>없음</td>\n",
       "      <td>농협중앙회</td>\n",
       "      <td>정상</td>\n",
       "      <td>16</td>\n",
       "      <td>2</td>\n",
       "    </tr>\n",
       "    <tr>\n",
       "      <th>4</th>\n",
       "      <td>25742550</td>\n",
       "      <td>사업자</td>\n",
       "      <td>경상도</td>\n",
       "      <td>부산광역시</td>\n",
       "      <td>연제구</td>\n",
       "      <td>여자</td>\n",
       "      <td>렌탈</td>\n",
       "      <td>일반</td>\n",
       "      <td>서비스 방문</td>\n",
       "      <td>10-23-2014</td>\n",
       "      <td>...</td>\n",
       "      <td>CMS</td>\n",
       "      <td>DES-2</td>\n",
       "      <td>87900</td>\n",
       "      <td>계약확정</td>\n",
       "      <td>0</td>\n",
       "      <td>없음</td>\n",
       "      <td>부산은행</td>\n",
       "      <td>정상</td>\n",
       "      <td>5</td>\n",
       "      <td>1</td>\n",
       "    </tr>\n",
       "  </tbody>\n",
       "</table>\n",
       "<p>5 rows × 21 columns</p>\n",
       "</div>"
      ],
      "text/plain": [
       "       고객ID 고객유형    거주지      시        구군 남여구분 판매유형    계약유형    유통경로  \\\n",
       "0  25869517  사업자    경상도  부산광역시       강서구   여자   렌탈    프로모션    렌탈총판   \n",
       "1  25777820  사업자    경기도    경기도      남양주시   여자   렌탈    프로모션    R유통사   \n",
       "2  25732653  사업자  서울특별시  서울특별시       강동구   여자   렌탈    프로모션  서비스 방문   \n",
       "3  25742699  사업자    경기도    경기도   안산시 단원구   여자   렌탈  통합 패키지      일반   \n",
       "4  25742550  사업자    경상도  부산광역시       연제구   여자   렌탈      일반  서비스 방문   \n",
       "\n",
       "          계약일  ...  납부유형    제품군   월랜탈비용  계약상태 연체건수  연체여부    결제은행 해약여부  계정수  \\\n",
       "0  10-21-2014  ...  가상계좌  DES-1   96900  계약확정    0    없음   농협중앙회   정상   45   \n",
       "1  10-21-2014  ...  가상계좌  DES-1  180750  계약확정    1    있음    신한은행   정상  187   \n",
       "2  10-22-2014  ...   CMS  DES-1  111900  계약확정   13    있음  농협회원조합   정상    5   \n",
       "3  10-22-2014  ...   CMS  DES-1   81900  계약확정    0    없음   농협중앙회   정상   16   \n",
       "4  10-23-2014  ...   CMS  DES-2   87900  계약확정    0    없음    부산은행   정상    5   \n",
       "\n",
       "   계약수  \n",
       "0    2  \n",
       "1    2  \n",
       "2    2  \n",
       "3    2  \n",
       "4    1  \n",
       "\n",
       "[5 rows x 21 columns]"
      ]
     },
     "execution_count": 63,
     "metadata": {},
     "output_type": "execute_result"
    }
   ],
   "source": [
    "df1 = pd.DataFrame(a.index, columns=['계약일'])\n",
    "df2 = pd.DataFrame(a.values, columns=['계약수'])\n",
    "df = pd.merge(df1, df2, left_index=True, right_index=True)\n",
    "\n",
    "df_time = pd.merge(df_new_b ,df, on = ['계약일'],how = 'right')\n",
    "df_time.head()"
   ]
  },
  {
   "cell_type": "code",
   "execution_count": 64,
   "metadata": {},
   "outputs": [],
   "source": [
    "df_time = df_time.drop_duplicates(['계약일'])"
   ]
  },
  {
   "cell_type": "code",
   "execution_count": 65,
   "metadata": {},
   "outputs": [],
   "source": [
    "df_time['계약일'] = pd.to_datetime(df_time['계약일'])"
   ]
  },
  {
   "cell_type": "code",
   "execution_count": 66,
   "metadata": {},
   "outputs": [],
   "source": [
    "df_time.set_index('계약일',inplace = True)"
   ]
  },
  {
   "cell_type": "code",
   "execution_count": 67,
   "metadata": {},
   "outputs": [
    {
     "data": {
      "image/png": "[encoded data removed]",
      "text/plain": [
       "<Figure size 936x648 with 1 Axes>"
      ]
     },
     "metadata": {},
     "output_type": "display_data"
    }
   ],
   "source": [
    "a = df_time['계약수'].plot(title='in')\n",
    "fig = a.get_figure()\n",
    "fig.set_size_inches(13,9)"
   ]
  },
  {
   "cell_type": "code",
   "execution_count": null,
   "metadata": {},
   "outputs": [],
   "source": []
  }
 ],
 "metadata": {
  "kernelspec": {
   "display_name": "Python 3",
   "language": "python",
   "name": "python3"
  },
  "language_info": {
   "codemirror_mode": {
    "name": "ipython",
    "version": 3
   },
   "file_extension": ".py",
   "mimetype": "text/x-python",
   "name": "python",
   "nbconvert_exporter": "python",
   "pygments_lexer": "ipython3",
   "version": "3.7.4"
  }
 },
 "nbformat": 4,
 "nbformat_minor": 2
}
